{
 "cells": [
  {
   "cell_type": "code",
   "execution_count": 19,
   "metadata": {},
   "outputs": [],
   "source": [
    "from selenium import webdriver\n",
    "from selenium.webdriver.common.by import By\n",
    "from selenium.webdriver.chrome.options import Options\n",
    "from selenium.webdriver.support import expected_conditions as EC\n",
    "from selenium.webdriver.support.ui import WebDriverWait\n",
    "from selenium.common.exceptions import NoSuchWindowException, NoSuchElementException\n",
    "from selenium.webdriver.chrome.service import Service\n",
    "from selenium.common.exceptions import TimeoutException\n",
    "from webdriver_manager.chrome import ChromeDriverManager\n",
    "from selenium.webdriver.chrome.service import Service as ChromeService\n",
    "from webdriver_manager.chrome import ChromeDriverManager\n",
    "\n",
    "\n",
    "\n",
    "import pandas as pd\n",
    "import time\n",
    "#ser = Service(r\"chromedriver.exe\")\n",
    "options = Options()\n",
    "options.headless = True\n",
    "options.add_argument(\"--window-size=1920,1200\")"
   ]
  },
  {
   "cell_type": "code",
   "execution_count": 20,
   "metadata": {},
   "outputs": [
    {
     "name": "stderr",
     "output_type": "stream",
     "text": [
      "[WDM] - Downloading:  98%|█████████▊| 6.64M/6.78M [00:00<00:00, 26.1MB/s]"
     ]
    }
   ],
   "source": [
    "#driver = webdriver.Chrome(service=ser, options=options)\n",
    "#driver = webdriver.Chrome(executable_path=\"chromedriver.exe\")\n",
    "driver = webdriver.Chrome(service=ChromeService(ChromeDriverManager().install()))"
   ]
  },
  {
   "cell_type": "code",
   "execution_count": 21,
   "metadata": {},
   "outputs": [],
   "source": [
    "def scrape_from_individual_job_url(link: str):\n",
    "    time.sleep(5)\n",
    "    driver.get(link)\n",
    "    \n",
    "    job_title = driver.find_element(By.CLASS_NAME, \"icl-u-xs-mb--xs.icl-u-xs-mt--none.jobsearch-JobInfoHeader-title\").text\n",
    "    \n",
    "    data = driver.find_element(By.CLASS_NAME, \"icl-u-xs-mt--xs.icl-u-textColor--secondary.jobsearch-JobInfoHeader-subtitle.jobsearch-DesktopStickyContainer-subtitle\")\n",
    "    \n",
    "    data_list = data.text.split('\\n')\n",
    "    company_name = data_list[0]\n",
    "    company_location = data_list[-1]\n",
    "    \n",
    "    job_description = driver.find_element(By.CLASS_NAME, \"jobsearch-jobDescriptionText\").text\n",
    "    #job_activity = driver.find_element(By.CLASS_NAME, \"jobsearch-HiringInsights-entry--text\").text\n",
    "    \n",
    "    job_activity_strings = driver.find_element(By.CLASS_NAME, \"css-q7fux.eu4oa1w0\").text\n",
    "    job_activity = job_activity_strings.split(\"\\n\")[2]\n",
    "    \n",
    "    try:\n",
    "        benefits = driver.find_elements(By.CLASS_NAME, \"css-tvvxwd.ecydgvn1\")\n",
    "        benefits_list = [benefit.text for benefit in benefits]    \n",
    "    except:\n",
    "        benefits_list = None\n",
    "        \n",
    "    return job_title, company_name, company_location, job_description, job_activity, benefits_list"
   ]
  },
  {
   "cell_type": "code",
   "execution_count": 22,
   "metadata": {},
   "outputs": [],
   "source": [
    "def scrape_all_job_data(job_title_to_search: str, city: str, age: int):    \n",
    "    job_title_to_search = job_title_to_search.replace(\" \", \"+\")\n",
    "    url_template = \"https://www.indeed.com/jobs?q={}&l={}&fromage={}\".format(job_title_to_search, city,age)\n",
    "\n",
    "    driver.get(url_template)\n",
    "    original_page = driver.current_url\n",
    "    original_window = driver.current_window_handle\n",
    "\n",
    "    href_elements = driver.find_elements(By.CLASS_NAME, \"jcs-JobTitle.css-jspxzf\")\n",
    "    links = [elem.get_attribute('href') for elem in href_elements]\n",
    "    \n",
    "    job_titles, company_names, company_locations, job_descriptions, job_activities, benefits_lists = [], [], [], [], [], []\n",
    "    \n",
    "    driver.switch_to.new_window()\n",
    "    tab_that_goes_to_individual_jobs = driver.current_window_handle\n",
    "    \n",
    "    for link in links:\n",
    "        try:\n",
    "            job_title, company_name, company_location, job_description, job_activity, benefits_list = scrape_from_individual_job_url(link)\n",
    "\n",
    "            job_titles.append(job_title)\n",
    "            company_names.append(company_name)\n",
    "            company_locations.append(company_locations)\n",
    "            job_descriptions.append(job_description)\n",
    "            job_activities.append(job_activity)\n",
    "            benefits_lists.append(benefits_list)\n",
    "            \n",
    "        except (NoSuchWindowException):\n",
    "            print(\"No Windows\")\n",
    "            pass\n",
    "        except NoSuchElementException as e:\n",
    "            print(e)\n",
    "            pass\n",
    "        \n",
    "    driver.switch_to.window(original_window)\n",
    "    \n",
    "    driver.find_element(By.XPATH, '//a[@aria-label=\"Next Page\"]').click()\n",
    "            \n",
    "    scraped_data_df = pd.DataFrame(data = {\"Job Title\": job_titles, \n",
    "                                           \"Company Name\": company_names, \n",
    "                                           \"Company Location\": company_locations,\n",
    "                                           \"Job Description\": job_descriptions,\n",
    "                                           \"Benefits\": benefits_lists,\n",
    "                                           \"Job Posted Date\": job_activities})\n",
    "    \n",
    "    \n",
    "    return scraped_data_df"
   ]
  },
  {
   "cell_type": "code",
   "execution_count": 23,
   "metadata": {
    "scrolled": true
   },
   "outputs": [
    {
     "name": "stderr",
     "output_type": "stream",
     "text": [
      "\r",
      "[WDM] - Downloading: 100%|██████████| 6.78M/6.78M [00:20<00:00, 26.1MB/s]"
     ]
    }
   ],
   "source": [
    "df = scrape_all_job_data(\"Data Scientist\", \"Philadelphia\",15)"
   ]
  },
  {
   "cell_type": "code",
   "execution_count": 24,
   "metadata": {},
   "outputs": [
    {
     "data": {
      "text/html": [
       "<div>\n",
       "<style scoped>\n",
       "    .dataframe tbody tr th:only-of-type {\n",
       "        vertical-align: middle;\n",
       "    }\n",
       "\n",
       "    .dataframe tbody tr th {\n",
       "        vertical-align: top;\n",
       "    }\n",
       "\n",
       "    .dataframe thead th {\n",
       "        text-align: right;\n",
       "    }\n",
       "</style>\n",
       "<table border=\"1\" class=\"dataframe\">\n",
       "  <thead>\n",
       "    <tr style=\"text-align: right;\">\n",
       "      <th></th>\n",
       "      <th>Job Title</th>\n",
       "      <th>Company Name</th>\n",
       "      <th>Company Location</th>\n",
       "      <th>Job Description</th>\n",
       "      <th>Benefits</th>\n",
       "      <th>Job Posted Date</th>\n",
       "    </tr>\n",
       "  </thead>\n",
       "  <tbody>\n",
       "    <tr>\n",
       "      <th>0</th>\n",
       "      <td>Data Scientist 2, Enterprise Data Analytics &amp; ...</td>\n",
       "      <td>Comcast</td>\n",
       "      <td>[[[[[...], [...], [...], [...], [...], [...], ...</td>\n",
       "      <td>Comcast brings together the best in media and ...</td>\n",
       "      <td>[]</td>\n",
       "      <td>Posted 1 day ago</td>\n",
       "    </tr>\n",
       "    <tr>\n",
       "      <th>1</th>\n",
       "      <td>Data Scientist</td>\n",
       "      <td>Liberty Personnel Services</td>\n",
       "      <td>[[[[[...], [...], [...], [...], [...], [...], ...</td>\n",
       "      <td>My client hired me to find for them a data sci...</td>\n",
       "      <td>[]</td>\n",
       "      <td>Posted 11 days ago</td>\n",
       "    </tr>\n",
       "    <tr>\n",
       "      <th>2</th>\n",
       "      <td>Software Engineer - LabVIEW - AI - Machine Vis...</td>\n",
       "      <td>Sciotex</td>\n",
       "      <td>[[[[[...], [...], [...], [...], [...], [...], ...</td>\n",
       "      <td>Sciotex is looking for skilled software develo...</td>\n",
       "      <td>[401(k), Flexible schedule, Health insurance]</td>\n",
       "      <td>Job activity</td>\n",
       "    </tr>\n",
       "    <tr>\n",
       "      <th>3</th>\n",
       "      <td>Data Quality Assurance - Food Science</td>\n",
       "      <td>Task Management, Inc</td>\n",
       "      <td>[[[[[...], [...], [...], [...], [...], [...], ...</td>\n",
       "      <td>GRADUATES WITH SCIENCE DEGREE– Contract role -...</td>\n",
       "      <td>[Health insurance]</td>\n",
       "      <td>Urgently hiring</td>\n",
       "    </tr>\n",
       "    <tr>\n",
       "      <th>4</th>\n",
       "      <td>Data Scientist (Mid Level)</td>\n",
       "      <td>Khoj Information Technology, Inc.</td>\n",
       "      <td>[[[[[...], [...], [...], [...], [...], [...], ...</td>\n",
       "      <td>HYBRID/REMOTE - STRONG PREFERENCE for HYBRID -...</td>\n",
       "      <td>[]</td>\n",
       "      <td>Job activity</td>\n",
       "    </tr>\n",
       "    <tr>\n",
       "      <th>5</th>\n",
       "      <td>Data Scientist</td>\n",
       "      <td>Harris Blitzer Sports &amp; Entertainment</td>\n",
       "      <td>[[[[[...], [...], [...], [...], [...], [...], ...</td>\n",
       "      <td>The Data Scientist will work in the Research a...</td>\n",
       "      <td>[401(k), 401(k) matching, Dental insurance, Fl...</td>\n",
       "      <td>Posted 13 days ago</td>\n",
       "    </tr>\n",
       "    <tr>\n",
       "      <th>6</th>\n",
       "      <td>Applied AI/ML Data Scientist - Card Portfolio ...</td>\n",
       "      <td>JPMorgan Chase Bank, N.A.</td>\n",
       "      <td>[[[[[...], [...], [...], [...], [...], [...], ...</td>\n",
       "      <td>Job Title\\nApplied AI/ML Data Scientist\\n\\nSho...</td>\n",
       "      <td>[Health insurance, Retirement plan, Tuition re...</td>\n",
       "      <td>Posted 2 days ago</td>\n",
       "    </tr>\n",
       "    <tr>\n",
       "      <th>7</th>\n",
       "      <td>Data Scientist</td>\n",
       "      <td>University of Pennsylvania</td>\n",
       "      <td>[[[[[...], [...], [...], [...], [...], [...], ...</td>\n",
       "      <td>University Overview\\n\\nThe University of Penns...</td>\n",
       "      <td>[Adoption assistance, Continuing education cre...</td>\n",
       "      <td>Posted 5 days ago</td>\n",
       "    </tr>\n",
       "    <tr>\n",
       "      <th>8</th>\n",
       "      <td>Data Scientist II</td>\n",
       "      <td>Burlington Stores</td>\n",
       "      <td>[[[[[...], [...], [...], [...], [...], [...], ...</td>\n",
       "      <td>LOCATION 4287 Route 130 S Edgewater Park NJ US...</td>\n",
       "      <td>[401(k), Dental insurance, Disability insuranc...</td>\n",
       "      <td>Posted 9 days ago</td>\n",
       "    </tr>\n",
       "    <tr>\n",
       "      <th>9</th>\n",
       "      <td>Scientist NAFS R&amp;D Product Data Management (PDM)</td>\n",
       "      <td>Campbell Soup Company</td>\n",
       "      <td>[[[[[...], [...], [...], [...], [...], [...], ...</td>\n",
       "      <td>Imagine...working for a company that knows tha...</td>\n",
       "      <td>[]</td>\n",
       "      <td>Posted 13 days ago</td>\n",
       "    </tr>\n",
       "    <tr>\n",
       "      <th>10</th>\n",
       "      <td>Machine Learning Data Engineer</td>\n",
       "      <td>Best Egg</td>\n",
       "      <td>[[[[[...], [...], [...], [...], [...], [...], ...</td>\n",
       "      <td>Best Egg is a consumer financial technology pl...</td>\n",
       "      <td>[Disability insurance, Employee assistance pro...</td>\n",
       "      <td>Posted 2 days ago</td>\n",
       "    </tr>\n",
       "    <tr>\n",
       "      <th>11</th>\n",
       "      <td>Junior Statistical Analyst (Family Medicine an...</td>\n",
       "      <td>University of Pennsylvania</td>\n",
       "      <td>[[[[[...], [...], [...], [...], [...], [...], ...</td>\n",
       "      <td>University Overview\\n\\nThe University of Penns...</td>\n",
       "      <td>[Adoption assistance, Continuing education cre...</td>\n",
       "      <td>Posted 3 days ago</td>\n",
       "    </tr>\n",
       "    <tr>\n",
       "      <th>12</th>\n",
       "      <td>Statistician</td>\n",
       "      <td>GSK</td>\n",
       "      <td>[[[[[...], [...], [...], [...], [...], [...], ...</td>\n",
       "      <td>Site Name: USA - Pennsylvania - Upper Providen...</td>\n",
       "      <td>[]</td>\n",
       "      <td>Posted 2 days ago</td>\n",
       "    </tr>\n",
       "    <tr>\n",
       "      <th>13</th>\n",
       "      <td>Data Scientist</td>\n",
       "      <td>AmeriGas Propane, Inc.</td>\n",
       "      <td>[[[[[...], [...], [...], [...], [...], [...], ...</td>\n",
       "      <td>When you work for AmeriGas, you become a part ...</td>\n",
       "      <td>[]</td>\n",
       "      <td>Posted 13 days ago</td>\n",
       "    </tr>\n",
       "    <tr>\n",
       "      <th>14</th>\n",
       "      <td>Scientist Data Automation</td>\n",
       "      <td>Johnson &amp; Johnson</td>\n",
       "      <td>[[[[[...], [...], [...], [...], [...], [...], ...</td>\n",
       "      <td>Janssen Research &amp; Development, LLC., is recru...</td>\n",
       "      <td>[]</td>\n",
       "      <td>Posted 11 days ago</td>\n",
       "    </tr>\n",
       "  </tbody>\n",
       "</table>\n",
       "</div>"
      ],
      "text/plain": [
       "                                            Job Title  \\\n",
       "0   Data Scientist 2, Enterprise Data Analytics & ...   \n",
       "1                                      Data Scientist   \n",
       "2   Software Engineer - LabVIEW - AI - Machine Vis...   \n",
       "3               Data Quality Assurance - Food Science   \n",
       "4                          Data Scientist (Mid Level)   \n",
       "5                                      Data Scientist   \n",
       "6   Applied AI/ML Data Scientist - Card Portfolio ...   \n",
       "7                                      Data Scientist   \n",
       "8                                   Data Scientist II   \n",
       "9    Scientist NAFS R&D Product Data Management (PDM)   \n",
       "10                     Machine Learning Data Engineer   \n",
       "11  Junior Statistical Analyst (Family Medicine an...   \n",
       "12                                       Statistician   \n",
       "13                                     Data Scientist   \n",
       "14                          Scientist Data Automation   \n",
       "\n",
       "                             Company Name  \\\n",
       "0                                 Comcast   \n",
       "1              Liberty Personnel Services   \n",
       "2                                 Sciotex   \n",
       "3                    Task Management, Inc   \n",
       "4       Khoj Information Technology, Inc.   \n",
       "5   Harris Blitzer Sports & Entertainment   \n",
       "6               JPMorgan Chase Bank, N.A.   \n",
       "7              University of Pennsylvania   \n",
       "8                       Burlington Stores   \n",
       "9                   Campbell Soup Company   \n",
       "10                               Best Egg   \n",
       "11             University of Pennsylvania   \n",
       "12                                    GSK   \n",
       "13                 AmeriGas Propane, Inc.   \n",
       "14                      Johnson & Johnson   \n",
       "\n",
       "                                     Company Location  \\\n",
       "0   [[[[[...], [...], [...], [...], [...], [...], ...   \n",
       "1   [[[[[...], [...], [...], [...], [...], [...], ...   \n",
       "2   [[[[[...], [...], [...], [...], [...], [...], ...   \n",
       "3   [[[[[...], [...], [...], [...], [...], [...], ...   \n",
       "4   [[[[[...], [...], [...], [...], [...], [...], ...   \n",
       "5   [[[[[...], [...], [...], [...], [...], [...], ...   \n",
       "6   [[[[[...], [...], [...], [...], [...], [...], ...   \n",
       "7   [[[[[...], [...], [...], [...], [...], [...], ...   \n",
       "8   [[[[[...], [...], [...], [...], [...], [...], ...   \n",
       "9   [[[[[...], [...], [...], [...], [...], [...], ...   \n",
       "10  [[[[[...], [...], [...], [...], [...], [...], ...   \n",
       "11  [[[[[...], [...], [...], [...], [...], [...], ...   \n",
       "12  [[[[[...], [...], [...], [...], [...], [...], ...   \n",
       "13  [[[[[...], [...], [...], [...], [...], [...], ...   \n",
       "14  [[[[[...], [...], [...], [...], [...], [...], ...   \n",
       "\n",
       "                                      Job Description  \\\n",
       "0   Comcast brings together the best in media and ...   \n",
       "1   My client hired me to find for them a data sci...   \n",
       "2   Sciotex is looking for skilled software develo...   \n",
       "3   GRADUATES WITH SCIENCE DEGREE– Contract role -...   \n",
       "4   HYBRID/REMOTE - STRONG PREFERENCE for HYBRID -...   \n",
       "5   The Data Scientist will work in the Research a...   \n",
       "6   Job Title\\nApplied AI/ML Data Scientist\\n\\nSho...   \n",
       "7   University Overview\\n\\nThe University of Penns...   \n",
       "8   LOCATION 4287 Route 130 S Edgewater Park NJ US...   \n",
       "9   Imagine...working for a company that knows tha...   \n",
       "10  Best Egg is a consumer financial technology pl...   \n",
       "11  University Overview\\n\\nThe University of Penns...   \n",
       "12  Site Name: USA - Pennsylvania - Upper Providen...   \n",
       "13  When you work for AmeriGas, you become a part ...   \n",
       "14  Janssen Research & Development, LLC., is recru...   \n",
       "\n",
       "                                             Benefits     Job Posted Date  \n",
       "0                                                  []    Posted 1 day ago  \n",
       "1                                                  []  Posted 11 days ago  \n",
       "2       [401(k), Flexible schedule, Health insurance]        Job activity  \n",
       "3                                  [Health insurance]     Urgently hiring  \n",
       "4                                                  []        Job activity  \n",
       "5   [401(k), 401(k) matching, Dental insurance, Fl...  Posted 13 days ago  \n",
       "6   [Health insurance, Retirement plan, Tuition re...   Posted 2 days ago  \n",
       "7   [Adoption assistance, Continuing education cre...   Posted 5 days ago  \n",
       "8   [401(k), Dental insurance, Disability insuranc...   Posted 9 days ago  \n",
       "9                                                  []  Posted 13 days ago  \n",
       "10  [Disability insurance, Employee assistance pro...   Posted 2 days ago  \n",
       "11  [Adoption assistance, Continuing education cre...   Posted 3 days ago  \n",
       "12                                                 []   Posted 2 days ago  \n",
       "13                                                 []  Posted 13 days ago  \n",
       "14                                                 []  Posted 11 days ago  "
      ]
     },
     "execution_count": 24,
     "metadata": {},
     "output_type": "execute_result"
    }
   ],
   "source": [
    "df"
   ]
  },
  {
   "cell_type": "code",
   "execution_count": null,
   "metadata": {},
   "outputs": [],
   "source": [
    "df = scrape_all_job_data(\"Software Engineer\", \"Philadelphia\")"
   ]
  },
  {
   "cell_type": "code",
   "execution_count": null,
   "metadata": {},
   "outputs": [],
   "source": [
    "df.head()"
   ]
  },
  {
   "cell_type": "code",
   "execution_count": null,
   "metadata": {},
   "outputs": [],
   "source": [
    "# Page 1 start=0, Page2 start=10 ... Page 15 start=140\n",
    "\n",
    "current_page = print(driver.current_url)"
   ]
  },
  {
   "cell_type": "code",
   "execution_count": null,
   "metadata": {},
   "outputs": [],
   "source": [
    "# Number of jobs\n",
    "<div class=\"jobsearch-JobCountAndSortPane-jobCount\">"
   ]
  },
  {
   "cell_type": "code",
   "execution_count": null,
   "metadata": {},
   "outputs": [],
   "source": [
    "job_title = driver.find_element(By.CLASS_NAME, \"icl-u-xs-mb--xs.icl-u-xs-mt--none.jobsearch-JobInfoHeader-title\")\n",
    "print(job_title.text)"
   ]
  },
  {
   "cell_type": "code",
   "execution_count": null,
   "metadata": {},
   "outputs": [],
   "source": [
    "driver.get('https://www.indeed.com/viewjob?jk=ecbcf343b3e3b8ce&tk=1gfjvhrjeg0n6802&from=serp&vjs=3&advn=4753071484186304&adid=359869966&ad=-6NYlbfkN0Cj-KmZPsf9w80C8b1WzNVrlanjD2SXJjxuCbUWHsXPZkFBy4Qr63BQKSyytxWB3SjjsGgK0lHsSMLiVZIKUrGNXwq5l1i7UNlTHr2wL3ADRozZFUrGyp2F9zy0vVoKkw89-RcQvfS-6RCKpWBUw1aEOnlaMpBO_cCixhqxF36vqnvnMcamHMkKARcxkgZDpxmtJVuOadNVlJ1O4-MQbR0msnurHQm3_vYm6azBsJbdDvQ0pAX6d68g-RaIYiCpxo1B5pAWEowdvKkVB6f_E_XQysHzbBBL511gg5yRHjTKyLaKeCvS6tI6Ue7T6kIGhTFkwxUjO7A6wjGPoc3esv4Ywli9A1S58DrPKbMV1rnq0dYBhQs59axT&sjdu=iMYN2Jly9sWyarqkEfXE5mk08BBOpcp3pYGzYADa6uVn7OC3DCWNiGDD5b1e2m2u2WJi_oaZ5ZeqGRnSSb1E0uTXjwX_1CW8-NhEEroXrMeyGmouCVyCauSCDVOG2g2tngKJn31rruz7NF1v4wPNSb5LDUCVObz6EAUsFekLErIpBJHaDsBLoJzh_X__sIWVI-zDlgpgF3wIMZanaHf28rApfn_Qx_WEgvZLmH_D2TfpAurgmrngMbUBeJA-VI12e7HFlosxcVUscCQmgoXPA6-1OCKfPzeoI9R1iY6aOfi2B4Nzs6CFo8N6ZuPsASj1eRKixf1VQqLQGo0CxEtWv73qCrFIBo3AuEc4mnCaZJLhHSCGQDbLZHnmCj0dRexGT3bfqTLONiZpZKzT7a41yZsY082_DSpTg9pIROgaL7dRSYbdN8ehgsYWosxq5_m-XowTNQFf7suJKsclP_UAygyLQzMytTZ1ja1hv9PiAOmy_LtdzpowrbxNaHvChHf-PoNUDV7KPMvt6bY4SA84nJRzlM013kjyswnNEDy-sB8zSDlgrtbbv8t7Uy9Ec8jsyG9gXKIdqZmHXu1xJZqn1A29iiZgUGDloMInzfiZRCQ')\n",
    "data = driver.find_element(By.CLASS_NAME, \"icl-u-xs-mt--xs.icl-u-textColor--secondary.jobsearch-JobInfoHeader-subtitle.jobsearch-DesktopStickyContainer-subtitle\")\n",
    "print(data.text)"
   ]
  },
  {
   "cell_type": "code",
   "execution_count": null,
   "metadata": {},
   "outputs": [],
   "source": [
    "x = data.text.split('\\n')\n",
    "print(x[0])"
   ]
  },
  {
   "cell_type": "code",
   "execution_count": null,
   "metadata": {},
   "outputs": [],
   "source": [
    "benefits = driver.find_elements(By.CLASS_NAME, \"css-tvvxwd.ecydgvn1\")\n",
    "print(benefits[3].text)"
   ]
  },
  {
   "cell_type": "code",
   "execution_count": null,
   "metadata": {},
   "outputs": [],
   "source": [
    "job_activity = driver.find_element(By.CLASS_NAME, \"jobsearch-HiringInsights-entry--text\")\n",
    "print(job_activity.text)"
   ]
  },
  {
   "cell_type": "code",
   "execution_count": null,
   "metadata": {},
   "outputs": [],
   "source": [
    "job_title, company_name, company_location, job_description, job_activity, benefits_list = scrape_from_individual_job_url(\"\")"
   ]
  },
  {
   "cell_type": "code",
   "execution_count": null,
   "metadata": {},
   "outputs": [],
   "source": [
    "job_title"
   ]
  },
  {
   "cell_type": "code",
   "execution_count": null,
   "metadata": {},
   "outputs": [],
   "source": [
    "company_name"
   ]
  },
  {
   "cell_type": "code",
   "execution_count": null,
   "metadata": {},
   "outputs": [],
   "source": [
    "company_location"
   ]
  },
  {
   "cell_type": "code",
   "execution_count": null,
   "metadata": {},
   "outputs": [],
   "source": [
    "job_description"
   ]
  },
  {
   "cell_type": "code",
   "execution_count": null,
   "metadata": {},
   "outputs": [],
   "source": [
    "job_activity"
   ]
  },
  {
   "cell_type": "code",
   "execution_count": null,
   "metadata": {},
   "outputs": [],
   "source": [
    "benefits_list"
   ]
  },
  {
   "cell_type": "code",
   "execution_count": null,
   "metadata": {},
   "outputs": [],
   "source": [
    "# Copied from this stackoverflow link. Maybe can fix? https://stackoverflow.com/questions/51775122/nosuchwindowexception-no-such-window-window-was-already-closed-while-switchi\n",
    "\n",
    "from selenium import webdriver\n",
    "from selenium.webdriver.support import expected_conditions as EC\n",
    "from selenium.webdriver.support.ui import WebDriverWait\n",
    "from selenium.webdriver.common.by import By\n",
    "\n",
    "url = \"your_url\"\n",
    "driver = webdriver.Chrome(service=ser, options=options)\n",
    "driver.get(url)\n",
    "windows_before  = driver.current_window_handle\n",
    "driver.find_element_by_id('portal.scheduling.prepopulate').click()\n",
    "WebDriverWait(driver, 5).until(EC.number_of_windows_to_be(2))\n",
    "windows_after = driver.window_handles\n",
    "new_window = [x for x in windows_after if x != windows_before][0]\n",
    "# driver.switch_to_window(new_window) <!---deprecated>\n",
    "driver.switch_to.window(new_window)\n",
    "WebDriverWait(driver, 5).until(EC.frame_to_be_available_and_switch_to_it((By.ID,\"myframe\"))) # or By.NAME, By.XPATH, By.CSS_SELECTOR"
   ]
  },
  {
   "cell_type": "code",
   "execution_count": null,
   "metadata": {
    "scrolled": false
   },
   "outputs": [],
   "source": [
    "df = scrape_all_job_data(\"Data Scientist\", \"Philadelphia\")"
   ]
  },
  {
   "cell_type": "code",
   "execution_count": null,
   "metadata": {},
   "outputs": [],
   "source": [
    "df.head()"
   ]
  },
  {
   "cell_type": "code",
   "execution_count": null,
   "metadata": {},
   "outputs": [],
   "source": []
  }
 ],
 "metadata": {
  "kernelspec": {
   "display_name": "Python 3",
   "language": "python",
   "name": "python3"
  },
  "language_info": {
   "codemirror_mode": {
    "name": "ipython",
    "version": 3
   },
   "file_extension": ".py",
   "mimetype": "text/x-python",
   "name": "python",
   "nbconvert_exporter": "python",
   "pygments_lexer": "ipython3",
   "version": "3.8.8"
  }
 },
 "nbformat": 4,
 "nbformat_minor": 4
}
