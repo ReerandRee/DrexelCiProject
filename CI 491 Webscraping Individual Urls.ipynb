{
 "cells": [
  {
   "cell_type": "code",
<<<<<<< HEAD
   "execution_count": 213,
=======
   "execution_count": 38,
   "metadata": {},
   "outputs": [],
   "source": [
    "from selenium import webdriver\n",
    "import pandas as pd"
   ]
  },
  {
   "cell_type": "code",
   "execution_count": 39,
>>>>>>> 61085d7fec2b79f9906d55a1225faf187ad1859e
   "metadata": {},
   "outputs": [],
   "source": [
    "from selenium import webdriver\n",
    "from selenium.webdriver.common.by import By\n",
    "from selenium.webdriver.chrome.options import Options\n",
    "from selenium.webdriver.support import expected_conditions as EC\n",
    "from selenium.webdriver.support.ui import WebDriverWait\n",
    "from selenium.common.exceptions import NoSuchWindowException, NoSuchElementException\n",
    "\n",
    "\n",
    "import pandas as pd\n",
    "\n",
    "options = Options()\n",
    "options.headless = True\n",
    "options.add_argument(\"--window-size=1920,1200\")"
   ]
  },
  {
   "cell_type": "code",
<<<<<<< HEAD
   "execution_count": 164,
=======
   "execution_count": 40,
>>>>>>> 61085d7fec2b79f9906d55a1225faf187ad1859e
   "metadata": {},
   "outputs": [
    {
     "name": "stderr",
     "output_type": "stream",
     "text": [
<<<<<<< HEAD
      "<ipython-input-164-3bdfdcdd1d57>:1: DeprecationWarning: executable_path has been deprecated, please pass in a Service object\n",
      "  driver = webdriver.Chrome(executable_path=\"C:/Users/Allen/Desktop/chromedriver.exe\")\n"
=======
      "C:\\Users\\mario\\AppData\\Local\\Temp\\ipykernel_3096\\2042595417.py:1: DeprecationWarning: executable_path has been deprecated, please pass in a Service object\n",
      "  driver = webdriver.Chrome(executable_path=\"C:/Users/mario/Desktop/chromedriver.exe\")\n"
>>>>>>> 61085d7fec2b79f9906d55a1225faf187ad1859e
     ]
    }
   ],
   "source": [
    "driver = webdriver.Chrome(executable_path=\"C:/Users/mario/Desktop/chromedriver.exe\")"
   ]
  },
  {
   "cell_type": "code",
   "execution_count": 41,
   "metadata": {},
   "outputs": [],
   "source": [
    "driver.get('https://www.indeed.com/jobs?q=data+scientist&l=Philadelphia%2C+PA&from=searchOnHP&vjk=ff6870627bbd2d7c')"
   ]
  },
  {
   "cell_type": "code",
<<<<<<< HEAD
   "execution_count": 12,
   "metadata": {
    "scrolled": true
   },
   "outputs": [],
=======
   "execution_count": 42,
   "metadata": {},
   "outputs": [
    {
     "name": "stderr",
     "output_type": "stream",
     "text": [
      "C:\\Users\\mario\\AppData\\Local\\Temp\\ipykernel_3096\\839157241.py:1: DeprecationWarning: find_elements_by_class_name is deprecated. Please use find_elements(by=By.CLASS_NAME, value=name) instead\n",
      "  Names = driver.find_elements_by_class_name('companyName')\n"
     ]
    }
   ],
   "source": [
    "Names = driver.find_elements_by_class_name('companyName')"
   ]
  },
  {
   "cell_type": "code",
   "execution_count": 43,
   "metadata": {},
   "outputs": [
    {
     "name": "stdout",
     "output_type": "stream",
     "text": [
      "Comcast\n",
      "IKEA\n",
      "Johnson & Johnson\n",
      "PayPal\n",
      "Cyber Resource\n",
      "Dataiku Misc Postings\n",
      "Worldgate, llc\n",
      "Wills Eye Hospital\n",
      "Enterra Solutions\n",
      "Data-Core System, Inc.\n",
      "Vanguard\n",
      "Penn Medicine\n",
      "DataStream Cyber Insurance\n",
      "Surya Systems\n",
      "The J.G. Wentworth Company\n"
     ]
    }
   ],
   "source": [
    "for name in Names:\n",
    "    print(name.text)"
   ]
  },
  {
   "cell_type": "code",
   "execution_count": 44,
   "metadata": {},
   "outputs": [
    {
     "name": "stderr",
     "output_type": "stream",
     "text": [
      "C:\\Users\\mario\\AppData\\Local\\Temp\\ipykernel_3096\\1415122044.py:1: DeprecationWarning: find_elements_by_class_name is deprecated. Please use find_elements(by=By.CLASS_NAME, value=name) instead\n",
      "  Locations = driver.find_elements_by_class_name('companyLocation')\n"
     ]
    }
   ],
   "source": [
    "Locations = driver.find_elements_by_class_name('companyLocation')"
   ]
  },
  {
   "cell_type": "code",
   "execution_count": 45,
   "metadata": {
    "scrolled": true
   },
   "outputs": [
    {
     "name": "stdout",
     "output_type": "stream",
     "text": [
      "Philadelphia, PA 19103\n",
      "\n",
      "Plymouth Meeting, PA\n",
      "\n",
      "Remote in Wayne, PA\n",
      "\n",
      "Plymouth Meeting, PA\n",
      "\n",
      "Philadelphia, PA\n",
      "\n",
      "Remote in Philadelphia, PA\n",
      "\n",
      "Philadelphia, PA 19130 \n",
      "(Logan Square area)\n",
      "\n",
      "Philadelphia, PA 19107 \n",
      "(City Center East area)\n",
      "\n",
      "Langhorne, PA\n",
      "\n",
      "Bristol, PA 19007\n",
      "\n",
      "Malvern, PA\n",
      "\n",
      "Philadelphia, PA 19104 \n",
      "(University City area)\n",
      "\n",
      "Remote in Philadelphia, PA\n",
      "\n",
      "Remote in Malvern, PA\n",
      "\n",
      "Remote in King of Prussia, PA\n",
      "\n"
     ]
    }
   ],
>>>>>>> 61085d7fec2b79f9906d55a1225faf187ad1859e
   "source": [
    "elements = driver.find_elements(By.CLASS_NAME, \"jcs-JobTitle.css-jspxzf\") ##\""
   ]
  },
  {
   "cell_type": "code",
<<<<<<< HEAD
   "execution_count": 13,
   "metadata": {},
   "outputs": [],
=======
   "execution_count": 46,
   "metadata": {},
   "outputs": [
    {
     "name": "stderr",
     "output_type": "stream",
     "text": [
      "C:\\Users\\mario\\AppData\\Local\\Temp\\ipykernel_3096\\2847784176.py:1: DeprecationWarning: find_elements_by_class_name is deprecated. Please use find_elements(by=By.CLASS_NAME, value=name) instead\n",
      "  attributes = driver.find_elements_by_class_name('attribute_snippet')\n"
     ]
    }
   ],
>>>>>>> 61085d7fec2b79f9906d55a1225faf187ad1859e
   "source": [
    "links = [elem.get_attribute('href') for elem in elements]"
   ]
  },
  {
   "cell_type": "code",
<<<<<<< HEAD
   "execution_count": 14,
=======
   "execution_count": 47,
>>>>>>> 61085d7fec2b79f9906d55a1225faf187ad1859e
   "metadata": {},
   "outputs": [
    {
     "name": "stdout",
     "output_type": "stream",
     "text": [
<<<<<<< HEAD
      "https://www.indeed.com/pagead/clk?mo=r&ad=-6NYlbfkN0Cj-KmZPsf9w80C8b1WzNVrlanjD2SXJjxuCbUWHsXPZkFBy4Qr63BQKSyytxWB3SjjsGgK0lHsSMLiVZIKUrGNXwq5l1i7UNlTHr2wL3ADRlpScenTyQDJsgX1JXo79igWcKBv6JHXeLFrIqsfWdZSWgBoYkz2iSAUwMB5V9NmxmxtAMca6x3GDA44dgHgh4RFBF8KOhJXC307uogCv420y-ZmqoRaPVwae1kc-RMQTFWg85rYT0FCK0nihguU0ifRVfn8hVvRovwMu3wAP7j1gUpzFlgypjdWFCzgzqlBVItSraoAUGfIEteokxtlYuhmBOHv1cUR-eJ0rFS3ZW6UxRMKd6L1xdVuRCkmZbdBA-VbQMSI3jngNIZJObcQ1ZpoQULFR5aHPHXyZvV27H581ZUbSUhGFkOC81ydReK3NX0kthKIX-e5J1uvQI_KJr6iblCpjbpx38l_iL4tDe4FIAtItYbfgLRfSQ1MZeWyV_jbWRzargzAetb48CyRm7APU-zMmpxsiLj65n6HsGRJ2ZPETHbSKmCrUZppA-sb7seGNClPYLm78id3wYMtD8JBKFFIgMK808ZqxdC9IRLNnXC5tHjDS6zoGlhqkmiCweenydZZ14zkoVTcjYD7in19cz_ZWo4eBbLm1Fa0p9s2MO9F3dQGq5rcEpxFn3DTd7Dx-2zm3AoHcy0DxOetHKU3lY562c_3dUMWQopRiskcB51TQMOhpQNUvGTmVVOl6CaEyrktqH01WzI6hJu7J-iDeLARoGxnmb-F-wMWN3HukwJTp_ybcnMt6t8j5a0OnVdCKzci6Yah4bjV5wQb2-npnoDLOdXGqGJaoDizw0CN928ZxCB331EfRX-TRJPdQ3GuI6jnX0iT-GqRT1gkjGVPWWZdKwmdTIl9voKnSAEJxmUJ8ONrhYuwn84D9Aj82K31fyFz8wkK3UtQgIwi0esbj7TJds2m0cLmMbwWIrbfb40rirCWYS04SGAKGliUJ5LiTxIN5H_i-W2z6-16lHYm-y9gcjBCsZbIcVTqaahgDuTPFcazsgy8-Bnt80BYAK65q-bZy2-g9sSeQIDHkzUeJHmreIowtIvcgHvrkVoimKrdVHyY_C1M8DzG5Do3B9zfyaDFCN1Ptr0Amk5R45BeLHikxwr10g==&xkcb=SoDh-_M3Yz28ECgDTj0LbzkdCdPP&p=0&fvj=0&vjs=3\n",
      "https://www.indeed.com/pagead/clk?mo=r&ad=-6NYlbfkN0CUiNPx3JJMftrniD84mdXKaxJ3iSjJgJAqzFniN-7X5qfIIbgtbL2t4OMTou7BWJcgZh04wmY3A3G71hR_C3ilgvU-rr93GYArTrWucztfnEXyTDLkDJ-YMbrKJhN14Y-bMgs9n-voCTI85NfnMSvm7l8Z7tGhvOFDikLSegz_m4L7h2jPitwc70l9GvHDDQ1vDZf4h5YLwpFlT4LT472prYLifKgfUjy3PosoDieIbsrYnAIbVl9BRZDzUzmoC3mAp3NJC04NON8UdVSbo3HaCAoHEEVjBPhnx93LcksHJTqjMQYZaZjhSmMe2t21eqQdVc2dHE_A-avMcVyBOHXWfUQtEKJ7lIqSjyf8KZ1DpdhWgMp45sNubNiJH4lbtOlsi9_2i72i2jez0ZBGiOMVNHjJ5xmJ9kZ2xKiB8Ct2TgcELhuo5GdRlRw4XoPVkCz2Bc84ReXl9t7VfE27t1tUTDrSRCicGLV9QH1FSwS6WXJJPWsox7XIaZav9GEAwYJafg3hCx_pHQ==&xkcb=SoBV-_M3Yz28ECgDTj0KbzkdCdPP&p=1&fvj=1&vjs=3\n",
      "https://www.indeed.com/pagead/clk?mo=r&ad=-6NYlbfkN0CLujGfbw16iS4AGarDSfFMWropu4XWWkHGJSXuJW_uex5Y1e9erQsOgn2-15yDHru1MY0UpJsOSWAPN9jSI4qbxEpBD7RtxtIRHoqvSHPju5pQXs9mtVF-b6rT1fi-8TKzbq0JF98INagndFL3IFVT74xZk5DJ3Kwt5cPALY6FnbJnwO6bkrAjqxhiOIsF1Y9yS-bLcweZ1QuWDIg-OsoHqX5y8q7GlHhgjg1P8rZLNpusI3zP2tkhiflyeYAnJFJxTJ3ucRp5yyPTD5zdtkirxypT1btKAm2bmHYb8mj1H_M-ORUD0WaacT9W8N5VbubCQ8q9JujpdCjOOMiw7OQxB5BGGdi8_bYGKzUT0gE1Tzj2zOYTtFY3I_2LJ0UeoEGf_nJHLPjOShk3hExQjDYfMkxgX_WbODFJPpD7U--Pj0PMxGxzVk1zHFYTbFB5ST4KO-qDZkpntQ-Y3w4DS7yRWnxLwhm4UiMh5JHqbvIOnQf4j3eaieOFtldALKX0yd4plmOXq-o2-c6Vts161y0kAQy-jY2n-oIBi8eMt6f4SHz-kn0V0-vR79abTOIg4J7XUOtc-UfodOWQphdqDejdIFNwKYh8xV4=&xkcb=SoDI-_M3Yz28ECgDTj0JbzkdCdPP&p=2&fvj=0&vjs=3\n",
      "https://www.indeed.com/rc/clk?jk=ff6870627bbd2d7c&fccid=0bed8e17bc113980&vjs=3\n",
      "https://www.indeed.com/rc/clk?jk=538c6a0d5a2642ef&fccid=f2f24d7fb43a029a&vjs=3\n",
      "https://www.indeed.com/company/IKEA/jobs/Senior-Data-Analyst-dd8eadd5f67ae1d5?fccid=af17ea0d1d6bbbba&vjs=3\n",
      "https://www.indeed.com/rc/clk?jk=9d59db0eee8729f8&fccid=cd22d01053af7669&vjs=3\n",
      "https://www.indeed.com/rc/clk?jk=eb2e30165bdfc55e&fccid=c38b7d5e0419a6a7&vjs=3\n",
      "https://www.indeed.com/company/Worldgate/jobs/Data-Scientist-81314330945e34ce?fccid=95017b1ea538d543&vjs=3\n",
      "https://www.indeed.com/rc/clk?jk=d93d6c6990251c1c&fccid=6cff958fb756cd94&vjs=3\n",
      "https://www.indeed.com/rc/clk?jk=3a9f038984b8904f&fccid=978d9fd9799d55a8&vjs=3\n",
      "https://www.indeed.com/rc/clk?jk=89299898a37b52fc&fccid=394c33004251e2fd&vjs=3\n",
      "https://www.indeed.com/rc/clk?jk=4fb116ca62bcaaee&fccid=f8afb1d7d11adc86&vjs=3\n",
      "https://www.indeed.com/rc/clk?jk=29ce57f011f478ad&fccid=36b76cf613fccb72&vjs=3\n",
      "https://www.indeed.com/rc/clk?jk=cb9a11e9e8a8554b&fccid=510aa29fcf8f87d9&vjs=3\n"
=======
      "Full-time\n",
      "\n",
      "$98,880 - $146,915 a year\n",
      "\n",
      "Full-time\n",
      "\n",
      "Full-time\n",
      "+1\n",
      "\n",
      "Full-time\n",
      "\n",
      "$84,346 - $173,707 a year\n",
      "\n",
      "Full-time\n",
      "\n",
      "8 hour shift\n",
      "+2\n",
      "\n",
      "$65,000 - $70,000 a year\n",
      "\n",
      "Full-time\n",
      "\n",
      "8 hour shift\n",
      "\n",
      "Full-time\n",
      "\n",
      "Full-time\n",
      "\n",
      "Full-time\n",
      "\n",
      "$80 an hour\n",
      "\n",
      "Full-time\n",
      "\n"
>>>>>>> 61085d7fec2b79f9906d55a1225faf187ad1859e
     ]
    }
   ],
   "source": [
    "for link in links:\n",
    "    print(link)"
   ]
  },
  {
   "cell_type": "code",
<<<<<<< HEAD
   "execution_count": 72,
   "metadata": {},
   "outputs": [],
=======
   "execution_count": 48,
   "metadata": {},
   "outputs": [
    {
     "name": "stderr",
     "output_type": "stream",
     "text": [
      "C:\\Users\\mario\\AppData\\Local\\Temp\\ipykernel_3096\\1364741198.py:1: DeprecationWarning: find_elements_by_class_name is deprecated. Please use find_elements(by=By.CLASS_NAME, value=name) instead\n",
      "  descriptions = driver.find_elements_by_class_name('job-snippet')\n"
     ]
    }
   ],
>>>>>>> 61085d7fec2b79f9906d55a1225faf187ad1859e
   "source": [
    "job_descriptions = []"
   ]
  },
  {
   "cell_type": "code",
<<<<<<< HEAD
   "execution_count": 24,
   "metadata": {},
   "outputs": [],
   "source": [
    "from selenium.webdriver.support.ui import WebDriverWait\n",
    "import time"
   ]
  },
  {
   "cell_type": "code",
   "execution_count": 76,
=======
   "execution_count": 49,
>>>>>>> 61085d7fec2b79f9906d55a1225faf187ad1859e
   "metadata": {},
   "outputs": [
    {
     "name": "stdout",
     "output_type": "stream",
     "text": [
<<<<<<< HEAD
      "15\n"
=======
      "Develop data mining, machine learning, statistical and graph-based algorithms designed to analyze massive data sets for business insights and partner with the…\n",
      "\n",
      "Work closely with other data scientists and across functions to help produce all required design specifications and ensure that data solutions work together and…\n",
      "\n",
      "Assist in creating new mechanisms to monitor for quality signals on an ongoing basis using advanced analytics, signal detection, natural language processing,…\n",
      "\n",
      "Proven experience in employing mathematical, statistical, data mining, and machine learning algorithms on real-world problems.\n",
      "\n",
      "Familiarity with health/public health data.\n",
      "The Data Scientist will collaborate with stakeholders, subject matter experts, and data stewards to ensure data…\n",
      "\n",
      "An ideal candidate is excited to learn complex new technologies and modeling techniques while being able to explain their work to other data scientists and…\n",
      "\n",
      "Conduct data analysis activities by working with functional and technical stakeholders to support the functional systems, data integrations, data validation,…\n",
      "\n",
      "The Vickie and Jack Farber Vision Research Center (VRC) at Wills Eye Hospital seeks a full-time data scientist/data analyst to help expand our vision research…\n",
      "\n",
      "1 - 2 years of experience in quantitative data analytics and/or numerical modeling.\n",
      "Data visualization and generating actionable insights.\n",
      "\n",
      "Responsibilities include creating, training, and deploying machine learning models.\n",
      "Perform data mining and collection procedures.\n",
      "\n",
      "Mentors and develops junior data scientists and analysts.\n",
      "Leads and executes analytical and data science projects that provide deep insights into business needs…\n",
      "\n",
      "Working knowledge of data science and machine learning libraries (e.g. caret, scikit-learn, etc.).\n",
      "Demonstrates knowledge of data analysis and data modeling;…\n",
      "\n",
      "Performing exploratory data analysis on new data sets.\n",
      "Good knowledge of python for data analysis and machine learning (pandas, numpy, scikit-learn, stats…\n",
      "\n",
      "Experience in data mining and machine learning.\n",
      "Experience with big data analytics technologies such as Spark, Flink and Hadoop.\n",
      "\n",
      "Develop and implement processes for data extraction, data cleaning and transformation, and data validation for credit analytics and modeling.\n",
      "\n"
>>>>>>> 61085d7fec2b79f9906d55a1225faf187ad1859e
     ]
    }
   ],
   "source": [
    "for link in links:\n",
    "    driver.get(link)\n",
    "    time.sleep(2)\n",
    "    full_job_description = driver.find_element(By.CLASS_NAME, \"jobsearch-jobDescriptionText\")\n",
    "    job_descriptions.append(full_job_description.text)\n",
    "    \n",
    "print(len(job_descriptions))"
   ]
  },
  {
   "cell_type": "code",
   "execution_count": 86,
   "metadata": {},
   "outputs": [],
   "source": [
    "current_page = 'https://www.indeed.com/jobs?q=data+scientist&l=Philadelphia%2C+PA&from=searchOnHP&vjk=ff6870627bbd2d7c'\n",
    "driver.get(current_page)"
   ]
  },
  {
   "cell_type": "code",
   "execution_count": 90,
   "metadata": {},
   "outputs": [],
   "source": [
    "driver.find_element(By.XPATH, '//a[@aria-label=\"Next Page\"]').click()"
   ]
  },
  {
   "cell_type": "code",
   "execution_count": 92,
   "metadata": {},
   "outputs": [
    {
     "name": "stdout",
     "output_type": "stream",
     "text": [
      "https://www.indeed.com/jobs?q=data+scientist&l=Philadelphia%2C+PA&start=80&pp=gQB4AAAAAAAAAAAAAAAB6Yk_wABaAQIBECIPA0jaRWN8J6g8JwqiagpbDsBMMTj2AdJMfyDZsMaIcNrx1xSOxIlOFiWmFT2AKBtF6MXf6vyOCTOWtG8WDm1q9Iyw1A4H3u2WkJCeKRfl2-Ww-N9JAAA&vjk=cadfde065bde5c0a\n"
     ]
    }
   ],
   "source": [
    "# Page 1 start=0, Page2 start=10 ... Page 15 start=140\n",
    "\n",
    "current_page = print(driver.current_url)"
   ]
  },
  {
   "cell_type": "code",
   "execution_count": 50,
   "metadata": {},
   "outputs": [
    {
     "name": "stdout",
     "output_type": "stream",
     "text": [
      "['Comcast\\tPhiladelphia, PA 19103\\tFull-time\\tDevelop data mining, machine learning, statistical and graph-based algorithms designed to analyze massive data sets for business insights and partner with the…']\n"
     ]
    }
   ],
   "source": [
    "arr = [Names[0].text + \"\\t\" + Locations[0].text  +  \"\\t\" + attributes[0].text  +  \"\\t\" +descriptions[0].text]\n",
    "print(arr)"
   ]
  },
  {
   "cell_type": "code",
   "execution_count": 51,
   "metadata": {},
   "outputs": [
    {
     "name": "stdout",
     "output_type": "stream",
     "text": [
      "[['Comcast\\tPhiladelphia, PA 19103\\tFull-time\\tDevelop data mining, machine learning, statistical and graph-based algorithms designed to analyze massive data sets for business insights and partner with the…'], ['IKEA\\tPlymouth Meeting, PA\\t$98,880 - $146,915 a year\\tWork closely with other data scientists and across functions to help produce all required design specifications and ensure that data solutions work together and…'], ['Johnson & Johnson\\tRemote in Wayne, PA\\tFull-time\\tAssist in creating new mechanisms to monitor for quality signals on an ongoing basis using advanced analytics, signal detection, natural language processing,…'], ['PayPal\\tPlymouth Meeting, PA\\tFull-time\\n+1\\tProven experience in employing mathematical, statistical, data mining, and machine learning algorithms on real-world problems.'], ['Cyber Resource\\tPhiladelphia, PA\\tFull-time\\tFamiliarity with health/public health data.\\nThe Data Scientist will collaborate with stakeholders, subject matter experts, and data stewards to ensure data…'], ['Dataiku Misc Postings\\tRemote in Philadelphia, PA\\t$84,346 - $173,707 a year\\tAn ideal candidate is excited to learn complex new technologies and modeling techniques while being able to explain their work to other data scientists and…'], ['Worldgate, llc\\tPhiladelphia, PA 19130 \\n(Logan Square area)\\tFull-time\\tConduct data analysis activities by working with functional and technical stakeholders to support the functional systems, data integrations, data validation,…'], ['Wills Eye Hospital\\tPhiladelphia, PA 19107 \\n(City Center East area)\\t8 hour shift\\n+2\\tThe Vickie and Jack Farber Vision Research Center (VRC) at Wills Eye Hospital seeks a full-time data scientist/data analyst to help expand our vision research…'], ['Enterra Solutions\\tLanghorne, PA\\t$65,000 - $70,000 a year\\t1 - 2 years of experience in quantitative data analytics and/or numerical modeling.\\nData visualization and generating actionable insights.'], ['Data-Core System, Inc.\\tBristol, PA 19007\\tFull-time\\tResponsibilities include creating, training, and deploying machine learning models.\\nPerform data mining and collection procedures.'], ['Vanguard\\tMalvern, PA\\t8 hour shift\\tMentors and develops junior data scientists and analysts.\\nLeads and executes analytical and data science projects that provide deep insights into business needs…'], ['Penn Medicine\\tPhiladelphia, PA 19104 \\n(University City area)\\tFull-time\\tWorking knowledge of data science and machine learning libraries (e.g. caret, scikit-learn, etc.).\\nDemonstrates knowledge of data analysis and data modeling;…'], ['DataStream Cyber Insurance\\tRemote in Philadelphia, PA\\tFull-time\\tPerforming exploratory data analysis on new data sets.\\nGood knowledge of python for data analysis and machine learning (pandas, numpy, scikit-learn, stats…'], ['Surya Systems\\tRemote in Malvern, PA\\tFull-time\\tExperience in data mining and machine learning.\\nExperience with big data analytics technologies such as Spark, Flink and Hadoop.'], ['The J.G. Wentworth Company\\tRemote in King of Prussia, PA\\t$80 an hour\\tDevelop and implement processes for data extraction, data cleaning and transformation, and data validation for credit analytics and modeling.']]\n"
     ]
    }
   ],
   "source": [
    "output = []\n",
    "for i in range(0,len(Names)):\n",
    "    output.append([Names[i].text + \"\\t\" + Locations[i].text  +  \"\\t\" + attributes[i].text  +  \"\\t\" +descriptions[i].text])\n",
    "print(output)"
   ]
  },
  {
   "cell_type": "code",
   "execution_count": 53,
   "metadata": {},
   "outputs": [],
   "source": [
    "df = pd.DataFrame(output)\n",
    "df.to_excel(\"test.xlsx\")"
   ]
  },
  {
   "cell_type": "code",
   "execution_count": null,
   "metadata": {},
   "outputs": [],
   "source": []
  },
  {
   "cell_type": "code",
   "execution_count": null,
   "metadata": {},
   "outputs": [],
   "source": [
    "# Number of jobs\n",
    "<div class=\"jobsearch-JobCountAndSortPane-jobCount\">"
   ]
  },
  {
   "cell_type": "code",
   "execution_count": 103,
   "metadata": {},
   "outputs": [
    {
     "name": "stdout",
     "output_type": "stream",
     "text": [
      "Senior Data Scientist\n"
     ]
    }
   ],
   "source": [
    "job_title = driver.find_element(By.CLASS_NAME, \"icl-u-xs-mb--xs.icl-u-xs-mt--none.jobsearch-JobInfoHeader-title\")\n",
    "print(job_title.text)"
   ]
  },
  {
   "cell_type": "code",
   "execution_count": 93,
   "metadata": {},
   "outputs": [
    {
     "name": "stdout",
     "output_type": "stream",
     "text": [
      "Comcast\n",
      "17,839 reviews\n",
      "Philadelphia, PA 19103\n"
     ]
    }
   ],
   "source": [
    "driver.get('https://www.indeed.com/viewjob?jk=ecbcf343b3e3b8ce&tk=1gfjvhrjeg0n6802&from=serp&vjs=3&advn=4753071484186304&adid=359869966&ad=-6NYlbfkN0Cj-KmZPsf9w80C8b1WzNVrlanjD2SXJjxuCbUWHsXPZkFBy4Qr63BQKSyytxWB3SjjsGgK0lHsSMLiVZIKUrGNXwq5l1i7UNlTHr2wL3ADRozZFUrGyp2F9zy0vVoKkw89-RcQvfS-6RCKpWBUw1aEOnlaMpBO_cCixhqxF36vqnvnMcamHMkKARcxkgZDpxmtJVuOadNVlJ1O4-MQbR0msnurHQm3_vYm6azBsJbdDvQ0pAX6d68g-RaIYiCpxo1B5pAWEowdvKkVB6f_E_XQysHzbBBL511gg5yRHjTKyLaKeCvS6tI6Ue7T6kIGhTFkwxUjO7A6wjGPoc3esv4Ywli9A1S58DrPKbMV1rnq0dYBhQs59axT&sjdu=iMYN2Jly9sWyarqkEfXE5mk08BBOpcp3pYGzYADa6uVn7OC3DCWNiGDD5b1e2m2u2WJi_oaZ5ZeqGRnSSb1E0uTXjwX_1CW8-NhEEroXrMeyGmouCVyCauSCDVOG2g2tngKJn31rruz7NF1v4wPNSb5LDUCVObz6EAUsFekLErIpBJHaDsBLoJzh_X__sIWVI-zDlgpgF3wIMZanaHf28rApfn_Qx_WEgvZLmH_D2TfpAurgmrngMbUBeJA-VI12e7HFlosxcVUscCQmgoXPA6-1OCKfPzeoI9R1iY6aOfi2B4Nzs6CFo8N6ZuPsASj1eRKixf1VQqLQGo0CxEtWv73qCrFIBo3AuEc4mnCaZJLhHSCGQDbLZHnmCj0dRexGT3bfqTLONiZpZKzT7a41yZsY082_DSpTg9pIROgaL7dRSYbdN8ehgsYWosxq5_m-XowTNQFf7suJKsclP_UAygyLQzMytTZ1ja1hv9PiAOmy_LtdzpowrbxNaHvChHf-PoNUDV7KPMvt6bY4SA84nJRzlM013kjyswnNEDy-sB8zSDlgrtbbv8t7Uy9Ec8jsyG9gXKIdqZmHXu1xJZqn1A29iiZgUGDloMInzfiZRCQ')\n",
    "data = driver.find_element(By.CLASS_NAME, \"icl-u-xs-mt--xs.icl-u-textColor--secondary.jobsearch-JobInfoHeader-subtitle.jobsearch-DesktopStickyContainer-subtitle\")\n",
    "print(data.text)"
   ]
  },
  {
   "cell_type": "code",
   "execution_count": 109,
   "metadata": {},
   "outputs": [
    {
     "name": "stdout",
     "output_type": "stream",
     "text": [
      "Comcast\n"
     ]
    }
   ],
   "source": [
    "x = data.text.split('\\n')\n",
    "print(x[0])"
   ]
  },
  {
   "cell_type": "code",
   "execution_count": 99,
   "metadata": {},
   "outputs": [
    {
     "name": "stdout",
     "output_type": "stream",
     "text": [
      "Health insurance\n"
     ]
    }
   ],
   "source": [
    "benefits = driver.find_elements(By.CLASS_NAME, \"css-tvvxwd.ecydgvn1\")\n",
    "print(benefits[3].text)"
   ]
  },
  {
   "cell_type": "code",
   "execution_count": 101,
   "metadata": {},
   "outputs": [
    {
     "name": "stdout",
     "output_type": "stream",
     "text": [
      "Posted 30+ days ago\n"
     ]
    }
   ],
   "source": [
    "job_activity = driver.find_element(By.CLASS_NAME, \"jobsearch-HiringInsights-entry--text\")\n",
    "print(job_activity.text)"
   ]
  },
  {
   "cell_type": "code",
   "execution_count": 142,
   "metadata": {},
   "outputs": [],
   "source": [
    "def scrape_from_individual_job_url(link: str):\n",
    "    time.sleep(5)\n",
    "    \n",
    "    job_title = driver.find_element(By.CLASS_NAME, \"icl-u-xs-mb--xs.icl-u-xs-mt--none.jobsearch-JobInfoHeader-title\").text\n",
    "\n",
    "    data = driver.find_element(By.CLASS_NAME, \"icl-u-xs-mt--xs.icl-u-textColor--secondary.jobsearch-JobInfoHeader-subtitle.jobsearch-DesktopStickyContainer-subtitle\")\n",
    "    data_list = data.text.split('\\n')\n",
    "    company_name = data_list[0]\n",
    "    company_location = data_list[-1]\n",
    "    \n",
    "    job_description = driver.find_element(By.CLASS_NAME, \"jobsearch-jobDescriptionText\").text\n",
    "    job_activity = driver.find_element(By.CLASS_NAME, \"jobsearch-HiringInsights-entry--text\").text\n",
    "    \n",
    "    try:\n",
    "        benefits = driver.find_elements(By.CLASS_NAME, \"css-tvvxwd.ecydgvn1\")\n",
    "        benefits_list = [benefit.text for benefit in benefits]    \n",
    "    except:\n",
    "        benefits_list = None\n",
    "        \n",
    "    return job_title, company_name, company_location, job_description, job_activity, benefits_list"
   ]
  },
  {
   "cell_type": "code",
   "execution_count": 181,
   "metadata": {},
   "outputs": [],
   "source": [
    "job_title, company_name, company_location, job_description, job_activity, benefits_list = scrape_from_individual_job_url(\"https://www.indeed.com/viewjob?jk=ecbcf343b3e3b8ce&tk=1gfjvhrjeg0n6802&from=serp&vjs=3&advn=4753071484186304&adid=359869966&ad=-6NYlbfkN0Cj-KmZPsf9w80C8b1WzNVrlanjD2SXJjxuCbUWHsXPZkFBy4Qr63BQKSyytxWB3SjjsGgK0lHsSMLiVZIKUrGNXwq5l1i7UNlTHr2wL3ADRozZFUrGyp2F9zy0vVoKkw89-RcQvfS-6RCKpWBUw1aEOnlaMpBO_cCixhqxF36vqnvnMcamHMkKARcxkgZDpxmtJVuOadNVlJ1O4-MQbR0msnurHQm3_vYm6azBsJbdDvQ0pAX6d68g-RaIYiCpxo1B5pAWEowdvKkVB6f_E_XQysHzbBBL511gg5yRHjTKyLaKeCvS6tI6Ue7T6kIGhTFkwxUjO7A6wjGPoc3esv4Ywli9A1S58DrPKbMV1rnq0dYBhQs59axT&sjdu=iMYN2Jly9sWyarqkEfXE5mk08BBOpcp3pYGzYADa6uVn7OC3DCWNiGDD5b1e2m2u2WJi_oaZ5ZeqGRnSSb1E0uTXjwX_1CW8-NhEEroXrMeyGmouCVyCauSCDVOG2g2tngKJn31rruz7NF1v4wPNSb5LDUCVObz6EAUsFekLErIpBJHaDsBLoJzh_X__sIWVI-zDlgpgF3wIMZanaHf28rApfn_Qx_WEgvZLmH_D2TfpAurgmrngMbUBeJA-VI12e7HFlosxcVUscCQmgoXPA6-1OCKfPzeoI9R1iY6aOfi2B4Nzs6CFo8N6ZuPsASj1eRKixf1VQqLQGo0CxEtWv73qCrFIBo3AuEc4mnCaZJLhHSCGQDbLZHnmCj0dRexGT3bfqTLONiZpZKzT7a41yZsY082_DSpTg9pIROgaL7dRSYbdN8ehgsYWosxq5_m-XowTNQFf7suJKsclP_UAygyLQzMytTZ1ja1hv9PiAOmy_LtdzpowrbxNaHvChHf-PoNUDV7KPMvt6bY4SA84nJRzlM013kjyswnNEDy-sB8zSDlgrtbbv8t7Uy9Ec8jsyG9gXKIdqZmHXu1xJZqn1A29iiZgUGDloMInzfiZRCQ\")"
   ]
  },
  {
   "cell_type": "code",
   "execution_count": 182,
   "metadata": {},
   "outputs": [
    {
     "data": {
      "text/plain": [
       "'Senior Data Scientist'"
      ]
     },
     "execution_count": 182,
     "metadata": {},
     "output_type": "execute_result"
    }
   ],
   "source": [
    "job_title"
   ]
  },
  {
   "cell_type": "code",
   "execution_count": 183,
   "metadata": {},
   "outputs": [
    {
     "data": {
      "text/plain": [
       "'Comcast'"
      ]
     },
     "execution_count": 183,
     "metadata": {},
     "output_type": "execute_result"
    }
   ],
   "source": [
    "company_name"
   ]
  },
  {
   "cell_type": "code",
   "execution_count": 184,
   "metadata": {},
   "outputs": [
    {
     "data": {
      "text/plain": [
       "'Philadelphia, PA 19103'"
      ]
     },
     "execution_count": 184,
     "metadata": {},
     "output_type": "execute_result"
    }
   ],
   "source": [
    "company_location"
   ]
  },
  {
   "cell_type": "code",
   "execution_count": 185,
   "metadata": {},
   "outputs": [
    {
     "data": {
      "text/plain": [
       "\"Comcast’s Technology, Product & Experience organization works at the intersection of media and technology. Our innovative teams are continually developing and delivering products that transform the customer experience. From creating apps like TVGo to new features such as the Talking Guide on the X1 platform, we work every day to make a positive impact through innovation in the pursuit of building amazing products that are enjoyable, easy to use and accessible across all platforms. The team also develops and supports our evolving network architecture, including next-generation consumer systems and technologies, infrastructure and engineering, network integration and management tools, and technical standards. We offer a flexible working environment to balance the need to work independently wherever you choose, with days that require collaboration at one of our offices. Our roles primarily reside inside or around one of our Tech Hubs (Philadelphia and surrounding suburbs, Denver, Austin, Silicon Valley, Washington DC/N. Virginia). Some roles can work virtual full-time if they are not near a Tech Hub, but that is dependent upon the needs of the position and amount of collaboration required.\\nJob Summary Responsible for leveraging internal and external data to provide insights and information which supports a facts-based decision making process. Provides input into strategy, analysis methods and tool selection. Acts as a key contributor in a complex and crucial environment. May lead teams or projects and shares expertise.\\nJob Description\\nThe Technology, Product, Experience (TPX) organization works at the intersection of media and technology and our innovative teams are continually developing and delivering products and next-generation technologies that transform the customer experience. The Comcast Network and CONNECTivity (CONNECT) organization is a highly agile, fast-paced, dedicated group at the forefront of change focused on innovating, building, and operating the best in class, most reliable access network for our customers.\\n\\nThe CONNECT team is looking for a Senior Data Scientist with a drive for understanding and making impactful decisions through insightful use of data to join Comcast. We are using cutting edge cloud technology and data analytical frameworks to help provide our customers with accurate information to help influence their business decisions.\\n\\nBring a combination of mathematical rigor and innovative algorithm design to create recipes that extract relevant insights from billions of rows of data to meaningfully improve Comcast user experience.\\nDo you like big challenges and working within a highly-motivated team environment? As a Senior Data Scientist, you will research, develop, support and apply new techniques using real-time distributed computing architectures. You will employ your skills to deliver insights into customer and network behavior to drive business decisions that will shape the future of Comcast and be part of a team that thrives on big challenges, results, quality, and agility.\\n\\nWho does the Senior Data Scientist work with?\\nThe Data Engineering and Science team as part of our CONNECTivity team is a diverse collection of professionals who work with a variety of organizational roles ranging from software engineering teams whose software integrates with analytics services, network architects and engineers, to service delivery engineers who provide support for our product, testers, operational stakeholders with all manner of information needs, and executives who rely on data for data based decision making.\\n\\nWhat are some interesting problems you’ll be working on?\\nDevelop models capable of processing millions of events per second and multi-billions of events per day, providing both a real time and historical view into the operation of our products and services. Work on high performance real time data stores and a massive historical data sets using best-of-breed and industry leading technology. Work closely with various engineering teams to solve key optimization, insight and access network data challenges.\\n\\nWhere can you make an impact?\\nThe Comcast CONNECTivity Data Engineering and Science team is acquiring, studying, simulating, and modeling to enable data as a key driver and core functional component toward better understanding, predicting, and dynamically optimizing the access network to improve overall user experience. Success in this role is best enabled by a broad mix of skills and interests ranging from traditional distributed systems software engineering prowess to the multidisciplinary field of data science.\\n\\nSkills & Experience We're Looking For:\\nKey skillsets: Statistical analysis, machine learning, software development, code fluency (SQL, Spark, Python, R)\\nStrong problem-solving skills\\nProficiency in at least one language (R, Python, SLQ, etc.) to manipulate data and draw insights from large data sets\\nExperience using Spark and machine learning packages (Tensorflow, Keras, Pytorch) to build models\\nExtensive knowledge and working experience on a variety of machine learning techniques (clustering, decision trees, artificial neural networks, etc.) and their real-world advantages/drawbacks\\nCoding background with several languages: Java, JavaScript, etc.\\nKnowledge and experience in statistical and data mining techniques: GLM/Regression, Random Forest, Boosting, Trees, text mining, social network analysis, etc.\\nAdvanced degree in Statistics, Mathematics, Computer Science or another quantitative field\\n4-5+ years of experience manipulating data sets and building statistical models\\n\\nAbout Our Perks & Benefits:\\nWe are determined to create an environment where our employees feel valued, understand our business goals, and are motivated.\\n\\nHere's a look at just some of the perks and benefits we make available to our US-based employees:\\nMedical & Dental\\n401(k) Savings Plan\\nGenerous paid time off\\nLife Milestones - from adoption assistance, childcare resources, pet insurance, and more, Comcast supports you at all life stages.\\nCourtesy Services - We offer all of our full-time employees in serviceable areas free digital TV and internet.\\nDiscount tickets for Universal Resorts, including theme park tickets and onsite hotel rooms. Learn more at jobs.comcast.com/life-at-comcast/benefits\\n\\nReasonable Accommodation\\nWe will ensure that individuals with disabilities are provided reasonable accommodation to participate in the job application or interview process, perform essential job functions, and receive other benefits and privileges of employment. Please contact us to request an accommodation.\\n\\nDisclaimer:\\nThis information has been designed to indicate the general nature and level of work performed by employees in this role. It is not designed to contain or be interpreted as a comprehensive inventory of all duties, responsibilities and qualifications.\\n\\nComcast is an EOE/Veterans/Disabled/LGBT employer.\\nComcast is proud to be an equal opportunity workplace. We will consider all qualified applicants for employment without regard to race, color, religion, age, sex, sexual orientation, gender identity, national origin, disability, veteran status, or any other basis protected by applicable law.\\nEducation\\nMaster's Degree\\nWhile possessing the stated degree is preferred, Comcast also may consider applicants who hold some combination of coursework and experience, or who have extensive related professional experience.\\nRelevant Work Experience\\n7-10 Years\\nBase pay is one part of the Total Rewards that Comcast provides to compensate and recognize employees for their work. Most sales positions are eligible for a Commission under the terms of an applicable plan, while most non-sales positions are eligible for a Bonus. Additionally, Comcast provides best-in-class Benefits. We believe that benefits should connect you to the support you need when it matters most, and should help you care for those who matter most. That’s why we provide an array of options, expert guidance and always-on tools, that are personalized to meet the needs of your reality – to help support you physically, financially and emotionally through the big milestones and in your everyday life. Please visit the compensation and benefits summary on our careers site for more details.\""
      ]
     },
     "execution_count": 185,
     "metadata": {},
     "output_type": "execute_result"
    }
   ],
   "source": [
    "job_description"
   ]
  },
  {
   "cell_type": "code",
   "execution_count": 186,
   "metadata": {},
   "outputs": [
    {
     "data": {
      "text/plain": [
       "'Posted 30+ days ago'"
      ]
     },
     "execution_count": 186,
     "metadata": {},
     "output_type": "execute_result"
    }
   ],
   "source": [
    "job_activity"
   ]
  },
  {
   "cell_type": "code",
   "execution_count": 187,
   "metadata": {},
   "outputs": [
    {
     "data": {
      "text/plain": [
       "['401(k)',\n",
       " 'Adoption assistance',\n",
       " 'Dental insurance',\n",
       " 'Health insurance',\n",
       " 'Paid time off',\n",
       " 'Pet insurance']"
      ]
     },
     "execution_count": 187,
     "metadata": {},
     "output_type": "execute_result"
    }
   ],
   "source": [
    "benefits_list"
   ]
  },
  {
   "cell_type": "code",
   "execution_count": 220,
   "metadata": {},
   "outputs": [],
   "source": [
    "def scrape_all_job_data(job_title_to_search: str, city: str):\n",
    "    driver = webdriver.Chrome(executable_path=\"C:/Users/Allen/Desktop/chromedriver.exe\")\n",
    "    \n",
    "    job_title_to_search = job_title_to_search.replace(\" \", \"+\")\n",
    "    url_template = \"https://www.indeed.com/jobs?q={}&l={}\".format(job_title_to_search, city)\n",
    "\n",
    "    driver.get(url_template)\n",
    "    # current_page = driver.current_url\n",
    "\n",
    "    href_elements = driver.find_elements(By.CLASS_NAME, \"jcs-JobTitle.css-jspxzf\")\n",
    "    links = [elem.get_attribute('href') for elem in href_elements]\n",
    "    \n",
    "    job_titles, company_names, company_locations, job_descriptions, job_activities, benefits_lists = [], [], [], [], [], []\n",
    "    \n",
    "    for link in links:\n",
    "        try:\n",
    "            driver.get(link)\n",
    "            job_title, company_name, company_location, job_description, job_activity, benefits_list = scrape_from_individual_job_url(link)\n",
    "\n",
    "            job_titles.append(job_title)\n",
    "            company_names.append(company_name)\n",
    "            company_locations.append(company_locations)\n",
    "            job_descriptions.append(job_description)\n",
    "            job_activities.append(job_activity)\n",
    "            benefits_lists.append(benefits_list)\n",
    "            \n",
    "        except (NoSuchWindowException, NoSuchElementException):\n",
    "            time.sleep(10)\n",
    "            job_title, company_name, company_location, job_description, job_activity, benefits_list = scrape_from_individual_job_url(link)\n",
    "\n",
    "            job_titles.append(job_title)\n",
    "            company_names.append(company_name)\n",
    "            company_locations.append(company_locations)\n",
    "            job_descriptions.append(job_description)\n",
    "            job_activities.append(job_activity)\n",
    "            benefits_lists.append(benefits_list)\n",
    "            \n",
    "    scraped_data_df = pd.DataFrame(data = {\"Job Title\": job_titles, \n",
    "                                           \"Company Name\": company_names, \n",
    "                                           \"Company Location\": company_locations,\n",
    "                                           \"Job Description\": job_descriptions,\n",
    "                                           \"Benefits\": benefits_lists,\n",
    "                                           \"Job Posted Date\": job_activities})\n",
    "    return scraped_data_df"
   ]
  },
  {
   "cell_type": "code",
   "execution_count": null,
   "metadata": {},
   "outputs": [],
   "source": [
    "# Copied from this stackoverflow link. Maybe can fix? https://stackoverflow.com/questions/51775122/nosuchwindowexception-no-such-window-window-was-already-closed-while-switchi\n",
    "\n",
    "from selenium import webdriver\n",
    "from selenium.webdriver.support import expected_conditions as EC\n",
    "from selenium.webdriver.support.ui import WebDriverWait\n",
    "from selenium.webdriver.common.by import By\n",
    "\n",
    "url = \"your_url\"\n",
    "driver = webdriver.Chrome(executable_path = r'S:\\Engineering\\Jake\\MasterControl Completing Pipette CalPM Forms\\chromedriver')\n",
    "driver.get(url)\n",
    "windows_before  = driver.current_window_handle\n",
    "driver.find_element_by_id('portal.scheduling.prepopulate').click()\n",
    "WebDriverWait(driver, 5).until(EC.number_of_windows_to_be(2))\n",
    "windows_after = driver.window_handles\n",
    "new_window = [x for x in windows_after if x != windows_before][0]\n",
    "# driver.switch_to_window(new_window) <!---deprecated>\n",
    "driver.switch_to.window(new_window)\n",
    "WebDriverWait(driver, 5).until(EC.frame_to_be_available_and_switch_to_it((By.ID,\"myframe\"))) # or By.NAME, By.XPATH, By.CSS_SELECTOR"
   ]
  },
  {
   "cell_type": "code",
   "execution_count": 221,
   "metadata": {
    "scrolled": false
   },
   "outputs": [
    {
     "name": "stderr",
     "output_type": "stream",
     "text": [
      "<ipython-input-220-b293d0871049>:2: DeprecationWarning: executable_path has been deprecated, please pass in a Service object\n",
      "  driver = webdriver.Chrome(executable_path=\"C:/Users/Allen/Desktop/chromedriver.exe\")\n"
     ]
    },
    {
     "ename": "NoSuchWindowException",
     "evalue": "Message: no such window: target window already closed\nfrom unknown error: web view not found\n  (Session info: chrome=106.0.5249.119)\nStacktrace:\nBacktrace:\n\tOrdinal0 [0x01031ED3+2236115]\n\tOrdinal0 [0x00FC92F1+1807089]\n\tOrdinal0 [0x00ED66FD+812797]\n\tOrdinal0 [0x00EBDFFA+712698]\n\tOrdinal0 [0x00F2506B+1134699]\n\tOrdinal0 [0x00F3514A+1200458]\n\tOrdinal0 [0x00F218A6+1120422]\n\tOrdinal0 [0x00EFA73D+960317]\n\tOrdinal0 [0x00EFB71F+964383]\n\tGetHandleVerifier [0x012DE7E2+2743074]\n\tGetHandleVerifier [0x012D08D4+2685972]\n\tGetHandleVerifier [0x010C2BAA+532202]\n\tGetHandleVerifier [0x010C1990+527568]\n\tOrdinal0 [0x00FD080C+1837068]\n\tOrdinal0 [0x00FD4CD8+1854680]\n\tOrdinal0 [0x00FD4DC5+1854917]\n\tOrdinal0 [0x00FDED64+1895780]\n\tBaseThreadInitThunk [0x77938744+36]\n\tRtlGetAppContainerNamedObjectPath [0x77D2582D+253]\n\tRtlGetAppContainerNamedObjectPath [0x77D257FD+205]\n",
     "output_type": "error",
     "traceback": [
      "\u001b[1;31m---------------------------------------------------------------------------\u001b[0m",
      "\u001b[1;31mNoSuchWindowException\u001b[0m                     Traceback (most recent call last)",
      "\u001b[1;32m<ipython-input-220-b293d0871049>\u001b[0m in \u001b[0;36mscrape_all_job_data\u001b[1;34m(job_title_to_search, city)\u001b[0m\n\u001b[0;32m     17\u001b[0m             \u001b[0mdriver\u001b[0m\u001b[1;33m.\u001b[0m\u001b[0mget\u001b[0m\u001b[1;33m(\u001b[0m\u001b[0mlink\u001b[0m\u001b[1;33m)\u001b[0m\u001b[1;33m\u001b[0m\u001b[1;33m\u001b[0m\u001b[0m\n\u001b[1;32m---> 18\u001b[1;33m             \u001b[0mjob_title\u001b[0m\u001b[1;33m,\u001b[0m \u001b[0mcompany_name\u001b[0m\u001b[1;33m,\u001b[0m \u001b[0mcompany_location\u001b[0m\u001b[1;33m,\u001b[0m \u001b[0mjob_description\u001b[0m\u001b[1;33m,\u001b[0m \u001b[0mjob_activity\u001b[0m\u001b[1;33m,\u001b[0m \u001b[0mbenefits_list\u001b[0m \u001b[1;33m=\u001b[0m \u001b[0mscrape_from_individual_job_url\u001b[0m\u001b[1;33m(\u001b[0m\u001b[0mlink\u001b[0m\u001b[1;33m)\u001b[0m\u001b[1;33m\u001b[0m\u001b[1;33m\u001b[0m\u001b[0m\n\u001b[0m\u001b[0;32m     19\u001b[0m \u001b[1;33m\u001b[0m\u001b[0m\n",
      "\u001b[1;32m<ipython-input-142-41d584ae4cfb>\u001b[0m in \u001b[0;36mscrape_from_individual_job_url\u001b[1;34m(link)\u001b[0m\n\u001b[0;32m      3\u001b[0m \u001b[1;33m\u001b[0m\u001b[0m\n\u001b[1;32m----> 4\u001b[1;33m     \u001b[0mjob_title\u001b[0m \u001b[1;33m=\u001b[0m \u001b[0mdriver\u001b[0m\u001b[1;33m.\u001b[0m\u001b[0mfind_element\u001b[0m\u001b[1;33m(\u001b[0m\u001b[0mBy\u001b[0m\u001b[1;33m.\u001b[0m\u001b[0mCLASS_NAME\u001b[0m\u001b[1;33m,\u001b[0m \u001b[1;34m\"icl-u-xs-mb--xs.icl-u-xs-mt--none.jobsearch-JobInfoHeader-title\"\u001b[0m\u001b[1;33m)\u001b[0m\u001b[1;33m.\u001b[0m\u001b[0mtext\u001b[0m\u001b[1;33m\u001b[0m\u001b[1;33m\u001b[0m\u001b[0m\n\u001b[0m\u001b[0;32m      5\u001b[0m \u001b[1;33m\u001b[0m\u001b[0m\n",
      "\u001b[1;32m~\\anaconda3\\lib\\site-packages\\selenium\\webdriver\\remote\\webdriver.py\u001b[0m in \u001b[0;36mfind_element\u001b[1;34m(self, by, value)\u001b[0m\n\u001b[0;32m    855\u001b[0m \u001b[1;33m\u001b[0m\u001b[0m\n\u001b[1;32m--> 856\u001b[1;33m         return self.execute(Command.FIND_ELEMENT, {\n\u001b[0m\u001b[0;32m    857\u001b[0m             \u001b[1;34m'using'\u001b[0m\u001b[1;33m:\u001b[0m \u001b[0mby\u001b[0m\u001b[1;33m,\u001b[0m\u001b[1;33m\u001b[0m\u001b[1;33m\u001b[0m\u001b[0m\n",
      "\u001b[1;32m~\\anaconda3\\lib\\site-packages\\selenium\\webdriver\\remote\\webdriver.py\u001b[0m in \u001b[0;36mexecute\u001b[1;34m(self, driver_command, params)\u001b[0m\n\u001b[0;32m    428\u001b[0m         \u001b[1;32mif\u001b[0m \u001b[0mresponse\u001b[0m\u001b[1;33m:\u001b[0m\u001b[1;33m\u001b[0m\u001b[1;33m\u001b[0m\u001b[0m\n\u001b[1;32m--> 429\u001b[1;33m             \u001b[0mself\u001b[0m\u001b[1;33m.\u001b[0m\u001b[0merror_handler\u001b[0m\u001b[1;33m.\u001b[0m\u001b[0mcheck_response\u001b[0m\u001b[1;33m(\u001b[0m\u001b[0mresponse\u001b[0m\u001b[1;33m)\u001b[0m\u001b[1;33m\u001b[0m\u001b[1;33m\u001b[0m\u001b[0m\n\u001b[0m\u001b[0;32m    430\u001b[0m             response['value'] = self._unwrap_value(\n",
      "\u001b[1;32m~\\anaconda3\\lib\\site-packages\\selenium\\webdriver\\remote\\errorhandler.py\u001b[0m in \u001b[0;36mcheck_response\u001b[1;34m(self, response)\u001b[0m\n\u001b[0;32m    242\u001b[0m             \u001b[1;32mraise\u001b[0m \u001b[0mexception_class\u001b[0m\u001b[1;33m(\u001b[0m\u001b[0mmessage\u001b[0m\u001b[1;33m,\u001b[0m \u001b[0mscreen\u001b[0m\u001b[1;33m,\u001b[0m \u001b[0mstacktrace\u001b[0m\u001b[1;33m,\u001b[0m \u001b[0malert_text\u001b[0m\u001b[1;33m)\u001b[0m  \u001b[1;31m# type: ignore[call-arg]  # mypy is not smart enough here\u001b[0m\u001b[1;33m\u001b[0m\u001b[1;33m\u001b[0m\u001b[0m\n\u001b[1;32m--> 243\u001b[1;33m         \u001b[1;32mraise\u001b[0m \u001b[0mexception_class\u001b[0m\u001b[1;33m(\u001b[0m\u001b[0mmessage\u001b[0m\u001b[1;33m,\u001b[0m \u001b[0mscreen\u001b[0m\u001b[1;33m,\u001b[0m \u001b[0mstacktrace\u001b[0m\u001b[1;33m)\u001b[0m\u001b[1;33m\u001b[0m\u001b[1;33m\u001b[0m\u001b[0m\n\u001b[0m",
      "\u001b[1;31mNoSuchWindowException\u001b[0m: Message: no such window: target window already closed\nfrom unknown error: web view not found\n  (Session info: chrome=106.0.5249.119)\nStacktrace:\nBacktrace:\n\tOrdinal0 [0x01031ED3+2236115]\n\tOrdinal0 [0x00FC92F1+1807089]\n\tOrdinal0 [0x00ED66FD+812797]\n\tOrdinal0 [0x00EBDFFA+712698]\n\tOrdinal0 [0x00F2506B+1134699]\n\tOrdinal0 [0x00F3514A+1200458]\n\tOrdinal0 [0x00F218A6+1120422]\n\tOrdinal0 [0x00EFA73D+960317]\n\tOrdinal0 [0x00EFB71F+964383]\n\tGetHandleVerifier [0x012DE7E2+2743074]\n\tGetHandleVerifier [0x012D08D4+2685972]\n\tGetHandleVerifier [0x010C2BAA+532202]\n\tGetHandleVerifier [0x010C1990+527568]\n\tOrdinal0 [0x00FD080C+1837068]\n\tOrdinal0 [0x00FD4CD8+1854680]\n\tOrdinal0 [0x00FD4DC5+1854917]\n\tOrdinal0 [0x00FDED64+1895780]\n\tBaseThreadInitThunk [0x77938744+36]\n\tRtlGetAppContainerNamedObjectPath [0x77D2582D+253]\n\tRtlGetAppContainerNamedObjectPath [0x77D257FD+205]\n",
      "\nDuring handling of the above exception, another exception occurred:\n",
      "\u001b[1;31mNoSuchWindowException\u001b[0m                     Traceback (most recent call last)",
      "\u001b[1;32m<ipython-input-221-6c6cdeaec19e>\u001b[0m in \u001b[0;36m<module>\u001b[1;34m\u001b[0m\n\u001b[1;32m----> 1\u001b[1;33m \u001b[0mdf\u001b[0m \u001b[1;33m=\u001b[0m \u001b[0mscrape_all_job_data\u001b[0m\u001b[1;33m(\u001b[0m\u001b[1;34m\"Data Scientist\"\u001b[0m\u001b[1;33m,\u001b[0m \u001b[1;34m\"Philadelphia\"\u001b[0m\u001b[1;33m)\u001b[0m\u001b[1;33m\u001b[0m\u001b[1;33m\u001b[0m\u001b[0m\n\u001b[0m",
      "\u001b[1;32m<ipython-input-220-b293d0871049>\u001b[0m in \u001b[0;36mscrape_all_job_data\u001b[1;34m(job_title_to_search, city)\u001b[0m\n\u001b[0;32m     26\u001b[0m \u001b[1;33m\u001b[0m\u001b[0m\n\u001b[0;32m     27\u001b[0m         \u001b[1;32mexcept\u001b[0m \u001b[1;33m(\u001b[0m\u001b[0mNoSuchWindowException\u001b[0m\u001b[1;33m,\u001b[0m \u001b[0mNoSuchElementException\u001b[0m\u001b[1;33m)\u001b[0m\u001b[1;33m:\u001b[0m\u001b[1;33m\u001b[0m\u001b[1;33m\u001b[0m\u001b[0m\n\u001b[1;32m---> 28\u001b[1;33m             \u001b[0mjob_title\u001b[0m\u001b[1;33m,\u001b[0m \u001b[0mcompany_name\u001b[0m\u001b[1;33m,\u001b[0m \u001b[0mcompany_location\u001b[0m\u001b[1;33m,\u001b[0m \u001b[0mjob_description\u001b[0m\u001b[1;33m,\u001b[0m \u001b[0mjob_activity\u001b[0m\u001b[1;33m,\u001b[0m \u001b[0mbenefits_list\u001b[0m \u001b[1;33m=\u001b[0m \u001b[0mscrape_from_individual_job_url\u001b[0m\u001b[1;33m(\u001b[0m\u001b[0mlink\u001b[0m\u001b[1;33m)\u001b[0m\u001b[1;33m\u001b[0m\u001b[1;33m\u001b[0m\u001b[0m\n\u001b[0m\u001b[0;32m     29\u001b[0m \u001b[1;33m\u001b[0m\u001b[0m\n\u001b[0;32m     30\u001b[0m             \u001b[0mjob_titles\u001b[0m\u001b[1;33m.\u001b[0m\u001b[0mappend\u001b[0m\u001b[1;33m(\u001b[0m\u001b[0mjob_title\u001b[0m\u001b[1;33m)\u001b[0m\u001b[1;33m\u001b[0m\u001b[1;33m\u001b[0m\u001b[0m\n",
      "\u001b[1;32m<ipython-input-142-41d584ae4cfb>\u001b[0m in \u001b[0;36mscrape_from_individual_job_url\u001b[1;34m(link)\u001b[0m\n\u001b[0;32m      2\u001b[0m     \u001b[0mtime\u001b[0m\u001b[1;33m.\u001b[0m\u001b[0msleep\u001b[0m\u001b[1;33m(\u001b[0m\u001b[1;36m5\u001b[0m\u001b[1;33m)\u001b[0m\u001b[1;33m\u001b[0m\u001b[1;33m\u001b[0m\u001b[0m\n\u001b[0;32m      3\u001b[0m \u001b[1;33m\u001b[0m\u001b[0m\n\u001b[1;32m----> 4\u001b[1;33m     \u001b[0mjob_title\u001b[0m \u001b[1;33m=\u001b[0m \u001b[0mdriver\u001b[0m\u001b[1;33m.\u001b[0m\u001b[0mfind_element\u001b[0m\u001b[1;33m(\u001b[0m\u001b[0mBy\u001b[0m\u001b[1;33m.\u001b[0m\u001b[0mCLASS_NAME\u001b[0m\u001b[1;33m,\u001b[0m \u001b[1;34m\"icl-u-xs-mb--xs.icl-u-xs-mt--none.jobsearch-JobInfoHeader-title\"\u001b[0m\u001b[1;33m)\u001b[0m\u001b[1;33m.\u001b[0m\u001b[0mtext\u001b[0m\u001b[1;33m\u001b[0m\u001b[1;33m\u001b[0m\u001b[0m\n\u001b[0m\u001b[0;32m      5\u001b[0m \u001b[1;33m\u001b[0m\u001b[0m\n\u001b[0;32m      6\u001b[0m     \u001b[0mdata\u001b[0m \u001b[1;33m=\u001b[0m \u001b[0mdriver\u001b[0m\u001b[1;33m.\u001b[0m\u001b[0mfind_element\u001b[0m\u001b[1;33m(\u001b[0m\u001b[0mBy\u001b[0m\u001b[1;33m.\u001b[0m\u001b[0mCLASS_NAME\u001b[0m\u001b[1;33m,\u001b[0m \u001b[1;34m\"icl-u-xs-mt--xs.icl-u-textColor--secondary.jobsearch-JobInfoHeader-subtitle.jobsearch-DesktopStickyContainer-subtitle\"\u001b[0m\u001b[1;33m)\u001b[0m\u001b[1;33m\u001b[0m\u001b[1;33m\u001b[0m\u001b[0m\n",
      "\u001b[1;32m~\\anaconda3\\lib\\site-packages\\selenium\\webdriver\\remote\\webdriver.py\u001b[0m in \u001b[0;36mfind_element\u001b[1;34m(self, by, value)\u001b[0m\n\u001b[0;32m    854\u001b[0m             \u001b[0mvalue\u001b[0m \u001b[1;33m=\u001b[0m \u001b[1;34m'[name=\"%s\"]'\u001b[0m \u001b[1;33m%\u001b[0m \u001b[0mvalue\u001b[0m\u001b[1;33m\u001b[0m\u001b[1;33m\u001b[0m\u001b[0m\n\u001b[0;32m    855\u001b[0m \u001b[1;33m\u001b[0m\u001b[0m\n\u001b[1;32m--> 856\u001b[1;33m         return self.execute(Command.FIND_ELEMENT, {\n\u001b[0m\u001b[0;32m    857\u001b[0m             \u001b[1;34m'using'\u001b[0m\u001b[1;33m:\u001b[0m \u001b[0mby\u001b[0m\u001b[1;33m,\u001b[0m\u001b[1;33m\u001b[0m\u001b[1;33m\u001b[0m\u001b[0m\n\u001b[0;32m    858\u001b[0m             'value': value})['value']\n",
      "\u001b[1;32m~\\anaconda3\\lib\\site-packages\\selenium\\webdriver\\remote\\webdriver.py\u001b[0m in \u001b[0;36mexecute\u001b[1;34m(self, driver_command, params)\u001b[0m\n\u001b[0;32m    427\u001b[0m         \u001b[0mresponse\u001b[0m \u001b[1;33m=\u001b[0m \u001b[0mself\u001b[0m\u001b[1;33m.\u001b[0m\u001b[0mcommand_executor\u001b[0m\u001b[1;33m.\u001b[0m\u001b[0mexecute\u001b[0m\u001b[1;33m(\u001b[0m\u001b[0mdriver_command\u001b[0m\u001b[1;33m,\u001b[0m \u001b[0mparams\u001b[0m\u001b[1;33m)\u001b[0m\u001b[1;33m\u001b[0m\u001b[1;33m\u001b[0m\u001b[0m\n\u001b[0;32m    428\u001b[0m         \u001b[1;32mif\u001b[0m \u001b[0mresponse\u001b[0m\u001b[1;33m:\u001b[0m\u001b[1;33m\u001b[0m\u001b[1;33m\u001b[0m\u001b[0m\n\u001b[1;32m--> 429\u001b[1;33m             \u001b[0mself\u001b[0m\u001b[1;33m.\u001b[0m\u001b[0merror_handler\u001b[0m\u001b[1;33m.\u001b[0m\u001b[0mcheck_response\u001b[0m\u001b[1;33m(\u001b[0m\u001b[0mresponse\u001b[0m\u001b[1;33m)\u001b[0m\u001b[1;33m\u001b[0m\u001b[1;33m\u001b[0m\u001b[0m\n\u001b[0m\u001b[0;32m    430\u001b[0m             response['value'] = self._unwrap_value(\n\u001b[0;32m    431\u001b[0m                 response.get('value', None))\n",
      "\u001b[1;32m~\\anaconda3\\lib\\site-packages\\selenium\\webdriver\\remote\\errorhandler.py\u001b[0m in \u001b[0;36mcheck_response\u001b[1;34m(self, response)\u001b[0m\n\u001b[0;32m    241\u001b[0m                 \u001b[0malert_text\u001b[0m \u001b[1;33m=\u001b[0m \u001b[0mvalue\u001b[0m\u001b[1;33m[\u001b[0m\u001b[1;34m'alert'\u001b[0m\u001b[1;33m]\u001b[0m\u001b[1;33m.\u001b[0m\u001b[0mget\u001b[0m\u001b[1;33m(\u001b[0m\u001b[1;34m'text'\u001b[0m\u001b[1;33m)\u001b[0m\u001b[1;33m\u001b[0m\u001b[1;33m\u001b[0m\u001b[0m\n\u001b[0;32m    242\u001b[0m             \u001b[1;32mraise\u001b[0m \u001b[0mexception_class\u001b[0m\u001b[1;33m(\u001b[0m\u001b[0mmessage\u001b[0m\u001b[1;33m,\u001b[0m \u001b[0mscreen\u001b[0m\u001b[1;33m,\u001b[0m \u001b[0mstacktrace\u001b[0m\u001b[1;33m,\u001b[0m \u001b[0malert_text\u001b[0m\u001b[1;33m)\u001b[0m  \u001b[1;31m# type: ignore[call-arg]  # mypy is not smart enough here\u001b[0m\u001b[1;33m\u001b[0m\u001b[1;33m\u001b[0m\u001b[0m\n\u001b[1;32m--> 243\u001b[1;33m         \u001b[1;32mraise\u001b[0m \u001b[0mexception_class\u001b[0m\u001b[1;33m(\u001b[0m\u001b[0mmessage\u001b[0m\u001b[1;33m,\u001b[0m \u001b[0mscreen\u001b[0m\u001b[1;33m,\u001b[0m \u001b[0mstacktrace\u001b[0m\u001b[1;33m)\u001b[0m\u001b[1;33m\u001b[0m\u001b[1;33m\u001b[0m\u001b[0m\n\u001b[0m",
      "\u001b[1;31mNoSuchWindowException\u001b[0m: Message: no such window: target window already closed\nfrom unknown error: web view not found\n  (Session info: chrome=106.0.5249.119)\nStacktrace:\nBacktrace:\n\tOrdinal0 [0x01031ED3+2236115]\n\tOrdinal0 [0x00FC92F1+1807089]\n\tOrdinal0 [0x00ED66FD+812797]\n\tOrdinal0 [0x00EBDFFA+712698]\n\tOrdinal0 [0x00F2506B+1134699]\n\tOrdinal0 [0x00F3514A+1200458]\n\tOrdinal0 [0x00F218A6+1120422]\n\tOrdinal0 [0x00EFA73D+960317]\n\tOrdinal0 [0x00EFB71F+964383]\n\tGetHandleVerifier [0x012DE7E2+2743074]\n\tGetHandleVerifier [0x012D08D4+2685972]\n\tGetHandleVerifier [0x010C2BAA+532202]\n\tGetHandleVerifier [0x010C1990+527568]\n\tOrdinal0 [0x00FD080C+1837068]\n\tOrdinal0 [0x00FD4CD8+1854680]\n\tOrdinal0 [0x00FD4DC5+1854917]\n\tOrdinal0 [0x00FDED64+1895780]\n\tBaseThreadInitThunk [0x77938744+36]\n\tRtlGetAppContainerNamedObjectPath [0x77D2582D+253]\n\tRtlGetAppContainerNamedObjectPath [0x77D257FD+205]\n"
     ]
    }
   ],
   "source": [
    "df = scrape_all_job_data(\"Data Scientist\", \"Philadelphia\")"
   ]
  },
  {
   "cell_type": "code",
   "execution_count": 219,
   "metadata": {},
   "outputs": [
    {
     "data": {
      "text/html": [
       "<div>\n",
       "<style scoped>\n",
       "    .dataframe tbody tr th:only-of-type {\n",
       "        vertical-align: middle;\n",
       "    }\n",
       "\n",
       "    .dataframe tbody tr th {\n",
       "        vertical-align: top;\n",
       "    }\n",
       "\n",
       "    .dataframe thead th {\n",
       "        text-align: right;\n",
       "    }\n",
       "</style>\n",
       "<table border=\"1\" class=\"dataframe\">\n",
       "  <thead>\n",
       "    <tr style=\"text-align: right;\">\n",
       "      <th></th>\n",
       "      <th>Job Title</th>\n",
       "      <th>Company Name</th>\n",
       "      <th>Company Location</th>\n",
       "      <th>Job Description</th>\n",
       "      <th>Benefits</th>\n",
       "      <th>Job Posted Date</th>\n",
       "    </tr>\n",
       "  </thead>\n",
       "  <tbody>\n",
       "  </tbody>\n",
       "</table>\n",
       "</div>"
      ],
      "text/plain": [
       "Empty DataFrame\n",
       "Columns: [Job Title, Company Name, Company Location, Job Description, Benefits, Job Posted Date]\n",
       "Index: []"
      ]
     },
     "execution_count": 219,
     "metadata": {},
     "output_type": "execute_result"
    }
   ],
   "source": [
    "df.head()"
   ]
  }
 ],
 "metadata": {
  "kernelspec": {
   "display_name": "Python 3 (ipykernel)",
   "language": "python",
   "name": "python3"
  },
  "language_info": {
   "codemirror_mode": {
    "name": "ipython",
    "version": 3
   },
   "file_extension": ".py",
   "mimetype": "text/x-python",
   "name": "python",
   "nbconvert_exporter": "python",
   "pygments_lexer": "ipython3",
   "version": "3.9.13"
  }
 },
 "nbformat": 4,
 "nbformat_minor": 4
}
