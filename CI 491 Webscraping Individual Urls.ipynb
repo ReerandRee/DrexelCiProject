{
 "cells": [
  {
   "cell_type": "code",
   "execution_count": 1,
   "metadata": {},
   "outputs": [],
   "source": [
    "from selenium import webdriver\n",
    "from selenium.webdriver.common.by import By\n",
    "from selenium.webdriver.chrome.options import Options\n",
    "from selenium.webdriver.support import expected_conditions as EC\n",
    "from selenium.webdriver.support.ui import WebDriverWait\n",
    "from selenium.common.exceptions import NoSuchWindowException, NoSuchElementException\n",
    "\n",
    "import pandas as pd\n",
    "import time\n",
    "\n",
    "options = Options()\n",
    "options.headless = True\n",
    "options.add_argument(\"--window-size=1920,1200\")"
   ]
  },
  {
   "cell_type": "code",
   "execution_count": 6,
   "metadata": {},
   "outputs": [
    {
     "name": "stderr",
     "output_type": "stream",
     "text": [
      "<ipython-input-6-529689e1e99e>:1: DeprecationWarning: executable_path has been deprecated, please pass in a Service object\n",
      "  driver = webdriver.Chrome(executable_path=\"C:/Users/Allen/GitHub/DrexelCiProject/chromedriver.exe\")\n"
     ]
    }
   ],
   "source": [
    "driver = webdriver.Chrome(executable_path=\"C:/Users/Allen/GitHub/DrexelCiProject/chromedriver.exe\")"
   ]
  },
  {
   "cell_type": "code",
   "execution_count": 7,
   "metadata": {},
   "outputs": [],
   "source": [
    "def scrape_from_individual_job_url(link: str):\n",
    "    time.sleep(5)\n",
    "    driver.get(link)\n",
    "    \n",
    "    job_title = driver.find_element(By.CLASS_NAME, \"icl-u-xs-mb--xs.icl-u-xs-mt--none.jobsearch-JobInfoHeader-title\").text\n",
    "\n",
    "    data = driver.find_element(By.CLASS_NAME, \"icl-u-xs-mt--xs.icl-u-textColor--secondary.jobsearch-JobInfoHeader-subtitle.jobsearch-DesktopStickyContainer-subtitle\")\n",
    "    data_list = data.text.split('\\n')\n",
    "    company_name = data_list[0]\n",
    "    company_location = data_list[-1]\n",
    "    \n",
    "    job_description = driver.find_element(By.CLASS_NAME, \"jobsearch-jobDescriptionText\").text\n",
    "    job_activity = driver.find_element(By.CLASS_NAME, \"jobsearch-HiringInsights-entry--text\").text\n",
    "    \n",
    "    try:\n",
    "        benefits = driver.find_elements(By.CLASS_NAME, \"css-tvvxwd.ecydgvn1\")\n",
    "        benefits_list = [benefit.text for benefit in benefits]    \n",
    "    except:\n",
    "        benefits_list = None\n",
    "        \n",
    "    return job_title, company_name, company_location, job_description, job_activity, benefits_list"
   ]
  },
  {
   "cell_type": "code",
   "execution_count": 11,
   "metadata": {},
   "outputs": [],
   "source": [
    "def scrape_all_job_data(job_title_to_search: str, city: str):    \n",
    "    job_title_to_search = job_title_to_search.replace(\" \", \"+\")\n",
    "    url_template = \"https://www.indeed.com/jobs?q={}&l={}\".format(job_title_to_search, city)\n",
    "\n",
    "    driver.get(url_template)\n",
    "    original_page = driver.current_url\n",
    "    original_window = driver.current_window_handle\n",
    "\n",
    "    href_elements = driver.find_elements(By.CLASS_NAME, \"jcs-JobTitle.css-jspxzf\")\n",
    "    links = [elem.get_attribute('href') for elem in href_elements]\n",
    "    \n",
    "    job_titles, company_names, company_locations, job_descriptions, job_activities, benefits_lists = [], [], [], [], [], []\n",
    "    \n",
    "    driver.switch_to.new_window()\n",
    "    tab_that_goes_to_individual_jobs = driver.current_window_handle\n",
    "    \n",
    "    for link in links:\n",
    "        try:\n",
    "            job_title, company_name, company_location, job_description, job_activity, benefits_list = scrape_from_individual_job_url(link)\n",
    "\n",
    "            job_titles.append(job_title)\n",
    "            company_names.append(company_name)\n",
    "            company_locations.append(company_locations)\n",
    "            job_descriptions.append(job_description)\n",
    "            job_activities.append(job_activity)\n",
    "            benefits_lists.append(benefits_list)\n",
    "            \n",
    "        except (NoSuchWindowException, NoSuchElementException):\n",
    "            pass\n",
    "        \n",
    "    driver.switch_to.window(original_window)\n",
    "    \n",
    "    driver.find_element(By.XPATH, '//a[@aria-label=\"Next Page\"]').click()\n",
    "            \n",
    "    scraped_data_df = pd.DataFrame(data = {\"Job Title\": job_titles, \n",
    "                                           \"Company Name\": company_names, \n",
    "                                           \"Company Location\": company_locations,\n",
    "                                           \"Job Description\": job_descriptions,\n",
    "                                           \"Benefits\": benefits_lists,\n",
    "                                           \"Job Posted Date\": job_activities})\n",
    "    \n",
    "    \n",
    "    return scraped_data_df"
   ]
  },
  {
   "cell_type": "code",
   "execution_count": 9,
   "metadata": {
    "scrolled": true
   },
   "outputs": [],
   "source": [
    "df = scrape_all_job_data(\"Data Scientist\", \"Philadelphia\")"
   ]
  },
  {
   "cell_type": "code",
   "execution_count": 10,
   "metadata": {},
   "outputs": [
    {
     "data": {
      "text/html": [
       "<div>\n",
       "<style scoped>\n",
       "    .dataframe tbody tr th:only-of-type {\n",
       "        vertical-align: middle;\n",
       "    }\n",
       "\n",
       "    .dataframe tbody tr th {\n",
       "        vertical-align: top;\n",
       "    }\n",
       "\n",
       "    .dataframe thead th {\n",
       "        text-align: right;\n",
       "    }\n",
       "</style>\n",
       "<table border=\"1\" class=\"dataframe\">\n",
       "  <thead>\n",
       "    <tr style=\"text-align: right;\">\n",
       "      <th></th>\n",
       "      <th>Job Title</th>\n",
       "      <th>Company Name</th>\n",
       "      <th>Company Location</th>\n",
       "      <th>Job Description</th>\n",
       "      <th>Benefits</th>\n",
       "      <th>Job Posted Date</th>\n",
       "    </tr>\n",
       "  </thead>\n",
       "  <tbody>\n",
       "    <tr>\n",
       "      <th>0</th>\n",
       "      <td>Data Scientist</td>\n",
       "      <td>firstPRO Inc.</td>\n",
       "      <td>[[[[[...], [...], [...], [...], [...], [...], ...</td>\n",
       "      <td>firstPRO inc. is looking for a Data Scientist ...</td>\n",
       "      <td>[401(k), Dental insurance, Flexible schedule, ...</td>\n",
       "      <td>Fast hiring</td>\n",
       "    </tr>\n",
       "    <tr>\n",
       "      <th>1</th>\n",
       "      <td>Data Scientist-Syndicated Data Exp</td>\n",
       "      <td>Task Management, Inc.</td>\n",
       "      <td>[[[[[...], [...], [...], [...], [...], [...], ...</td>\n",
       "      <td>Data Scientist-PHD students-Contract- HYBRID C...</td>\n",
       "      <td>[]</td>\n",
       "      <td>Fast hiring</td>\n",
       "    </tr>\n",
       "    <tr>\n",
       "      <th>2</th>\n",
       "      <td>Data Scientist II</td>\n",
       "      <td>TEKsystems</td>\n",
       "      <td>[[[[[...], [...], [...], [...], [...], [...], ...</td>\n",
       "      <td>Equivalent Experience\\nTop Skills' Details Ski...</td>\n",
       "      <td>[]</td>\n",
       "      <td>Posted 2 days ago</td>\n",
       "    </tr>\n",
       "    <tr>\n",
       "      <th>3</th>\n",
       "      <td>Data Scientist</td>\n",
       "      <td>Worldgate, llc</td>\n",
       "      <td>[[[[[...], [...], [...], [...], [...], [...], ...</td>\n",
       "      <td>Job Summary:\\nThe Data Analyst (DA) supports o...</td>\n",
       "      <td>[401(k), Dental insurance, Health insurance, P...</td>\n",
       "      <td>Posted 16 days ago</td>\n",
       "    </tr>\n",
       "    <tr>\n",
       "      <th>4</th>\n",
       "      <td>Jr. Data Scientist</td>\n",
       "      <td>Data-Core System, Inc.</td>\n",
       "      <td>[[[[[...], [...], [...], [...], [...], [...], ...</td>\n",
       "      <td>Data-Core Systems is looking for a Jr. Data Sc...</td>\n",
       "      <td>[401(k), 401(k) matching, Dental insurance, He...</td>\n",
       "      <td>Posted 8 days ago</td>\n",
       "    </tr>\n",
       "  </tbody>\n",
       "</table>\n",
       "</div>"
      ],
      "text/plain": [
       "                            Job Title            Company Name  \\\n",
       "0                      Data Scientist           firstPRO Inc.   \n",
       "1  Data Scientist-Syndicated Data Exp   Task Management, Inc.   \n",
       "2                   Data Scientist II              TEKsystems   \n",
       "3                      Data Scientist          Worldgate, llc   \n",
       "4                  Jr. Data Scientist  Data-Core System, Inc.   \n",
       "\n",
       "                                    Company Location  \\\n",
       "0  [[[[[...], [...], [...], [...], [...], [...], ...   \n",
       "1  [[[[[...], [...], [...], [...], [...], [...], ...   \n",
       "2  [[[[[...], [...], [...], [...], [...], [...], ...   \n",
       "3  [[[[[...], [...], [...], [...], [...], [...], ...   \n",
       "4  [[[[[...], [...], [...], [...], [...], [...], ...   \n",
       "\n",
       "                                     Job Description  \\\n",
       "0  firstPRO inc. is looking for a Data Scientist ...   \n",
       "1  Data Scientist-PHD students-Contract- HYBRID C...   \n",
       "2  Equivalent Experience\\nTop Skills' Details Ski...   \n",
       "3  Job Summary:\\nThe Data Analyst (DA) supports o...   \n",
       "4  Data-Core Systems is looking for a Jr. Data Sc...   \n",
       "\n",
       "                                            Benefits     Job Posted Date  \n",
       "0  [401(k), Dental insurance, Flexible schedule, ...         Fast hiring  \n",
       "1                                                 []         Fast hiring  \n",
       "2                                                 []   Posted 2 days ago  \n",
       "3  [401(k), Dental insurance, Health insurance, P...  Posted 16 days ago  \n",
       "4  [401(k), 401(k) matching, Dental insurance, He...   Posted 8 days ago  "
      ]
     },
     "execution_count": 10,
     "metadata": {},
     "output_type": "execute_result"
    }
   ],
   "source": [
    "df.head()"
   ]
  },
  {
   "cell_type": "code",
   "execution_count": 13,
   "metadata": {},
   "outputs": [],
   "source": [
    "df = scrape_all_job_data(\"Software Engineer\", \"Philadelphia\")"
   ]
  },
  {
   "cell_type": "code",
   "execution_count": 14,
   "metadata": {},
   "outputs": [
    {
     "data": {
      "text/html": [
       "<div>\n",
       "<style scoped>\n",
       "    .dataframe tbody tr th:only-of-type {\n",
       "        vertical-align: middle;\n",
       "    }\n",
       "\n",
       "    .dataframe tbody tr th {\n",
       "        vertical-align: top;\n",
       "    }\n",
       "\n",
       "    .dataframe thead th {\n",
       "        text-align: right;\n",
       "    }\n",
       "</style>\n",
       "<table border=\"1\" class=\"dataframe\">\n",
       "  <thead>\n",
       "    <tr style=\"text-align: right;\">\n",
       "      <th></th>\n",
       "      <th>Job Title</th>\n",
       "      <th>Company Name</th>\n",
       "      <th>Company Location</th>\n",
       "      <th>Job Description</th>\n",
       "      <th>Benefits</th>\n",
       "      <th>Job Posted Date</th>\n",
       "    </tr>\n",
       "  </thead>\n",
       "  <tbody>\n",
       "    <tr>\n",
       "      <th>0</th>\n",
       "      <td>Software Engineer, Backend (Remote-eligible)</td>\n",
       "      <td>Capital One</td>\n",
       "      <td>[[[[[...], [...], [...], [...], [...], [...], ...</td>\n",
       "      <td>Center 1 (19052), United States of America, Mc...</td>\n",
       "      <td>[]</td>\n",
       "      <td>Posted 4 days ago</td>\n",
       "    </tr>\n",
       "    <tr>\n",
       "      <th>1</th>\n",
       "      <td>Embedded Systems Developer</td>\n",
       "      <td>Scala</td>\n",
       "      <td>[[[[[...], [...], [...], [...], [...], [...], ...</td>\n",
       "      <td>Scala solutions deliver engaging retail experi...</td>\n",
       "      <td>[401(k), 401(k) matching, Dental insurance, Di...</td>\n",
       "      <td>Posted 30+ days ago</td>\n",
       "    </tr>\n",
       "    <tr>\n",
       "      <th>2</th>\n",
       "      <td>Senior Application Software Developer</td>\n",
       "      <td>ASRC Federal Holding Company</td>\n",
       "      <td>[[[[[...], [...], [...], [...], [...], [...], ...</td>\n",
       "      <td>ASRC Federal Mission Solutions is a premier pr...</td>\n",
       "      <td>[]</td>\n",
       "      <td>Posted 30+ days ago</td>\n",
       "    </tr>\n",
       "    <tr>\n",
       "      <th>3</th>\n",
       "      <td>Software Engineer – Early Career</td>\n",
       "      <td>LOCKHEED MARTIN CORPORATION</td>\n",
       "      <td>[[[[[...], [...], [...], [...], [...], [...], ...</td>\n",
       "      <td>COVID-19 continues to significantly impact our...</td>\n",
       "      <td>[Flexible schedule]</td>\n",
       "      <td>Posted 30+ days ago</td>\n",
       "    </tr>\n",
       "    <tr>\n",
       "      <th>4</th>\n",
       "      <td>Software Engineer, Full Stack</td>\n",
       "      <td>Capital One</td>\n",
       "      <td>[[[[[...], [...], [...], [...], [...], [...], ...</td>\n",
       "      <td>1735 Market St (16035), United States of Ameri...</td>\n",
       "      <td>[]</td>\n",
       "      <td>Posted today</td>\n",
       "    </tr>\n",
       "  </tbody>\n",
       "</table>\n",
       "</div>"
      ],
      "text/plain": [
       "                                      Job Title                  Company Name  \\\n",
       "0  Software Engineer, Backend (Remote-eligible)                   Capital One   \n",
       "1                    Embedded Systems Developer                         Scala   \n",
       "2         Senior Application Software Developer  ASRC Federal Holding Company   \n",
       "3              Software Engineer – Early Career   LOCKHEED MARTIN CORPORATION   \n",
       "4                 Software Engineer, Full Stack                   Capital One   \n",
       "\n",
       "                                    Company Location  \\\n",
       "0  [[[[[...], [...], [...], [...], [...], [...], ...   \n",
       "1  [[[[[...], [...], [...], [...], [...], [...], ...   \n",
       "2  [[[[[...], [...], [...], [...], [...], [...], ...   \n",
       "3  [[[[[...], [...], [...], [...], [...], [...], ...   \n",
       "4  [[[[[...], [...], [...], [...], [...], [...], ...   \n",
       "\n",
       "                                     Job Description  \\\n",
       "0  Center 1 (19052), United States of America, Mc...   \n",
       "1  Scala solutions deliver engaging retail experi...   \n",
       "2  ASRC Federal Mission Solutions is a premier pr...   \n",
       "3  COVID-19 continues to significantly impact our...   \n",
       "4  1735 Market St (16035), United States of Ameri...   \n",
       "\n",
       "                                            Benefits      Job Posted Date  \n",
       "0                                                 []    Posted 4 days ago  \n",
       "1  [401(k), 401(k) matching, Dental insurance, Di...  Posted 30+ days ago  \n",
       "2                                                 []  Posted 30+ days ago  \n",
       "3                                [Flexible schedule]  Posted 30+ days ago  \n",
       "4                                                 []         Posted today  "
      ]
     },
     "execution_count": 14,
     "metadata": {},
     "output_type": "execute_result"
    }
   ],
   "source": [
    "df.head()"
   ]
  },
  {
   "cell_type": "code",
   "execution_count": 92,
   "metadata": {},
   "outputs": [
    {
     "name": "stdout",
     "output_type": "stream",
     "text": [
      "https://www.indeed.com/jobs?q=data+scientist&l=Philadelphia%2C+PA&start=80&pp=gQB4AAAAAAAAAAAAAAAB6Yk_wABaAQIBECIPA0jaRWN8J6g8JwqiagpbDsBMMTj2AdJMfyDZsMaIcNrx1xSOxIlOFiWmFT2AKBtF6MXf6vyOCTOWtG8WDm1q9Iyw1A4H3u2WkJCeKRfl2-Ww-N9JAAA&vjk=cadfde065bde5c0a\n"
     ]
    }
   ],
   "source": [
    "# Page 1 start=0, Page2 start=10 ... Page 15 start=140\n",
    "\n",
    "current_page = print(driver.current_url)"
   ]
  },
  {
   "cell_type": "code",
   "execution_count": null,
   "metadata": {},
   "outputs": [],
   "source": [
    "# Number of jobs\n",
    "<div class=\"jobsearch-JobCountAndSortPane-jobCount\">"
   ]
  },
  {
   "cell_type": "code",
   "execution_count": 103,
   "metadata": {},
   "outputs": [
    {
     "name": "stdout",
     "output_type": "stream",
     "text": [
      "Senior Data Scientist\n"
     ]
    }
   ],
   "source": [
    "job_title = driver.find_element(By.CLASS_NAME, \"icl-u-xs-mb--xs.icl-u-xs-mt--none.jobsearch-JobInfoHeader-title\")\n",
    "print(job_title.text)"
   ]
  },
  {
   "cell_type": "code",
   "execution_count": 93,
   "metadata": {},
   "outputs": [
    {
     "name": "stdout",
     "output_type": "stream",
     "text": [
      "Comcast\n",
      "17,839 reviews\n",
      "Philadelphia, PA 19103\n"
     ]
    }
   ],
   "source": [
    "driver.get('https://www.indeed.com/viewjob?jk=ecbcf343b3e3b8ce&tk=1gfjvhrjeg0n6802&from=serp&vjs=3&advn=4753071484186304&adid=359869966&ad=-6NYlbfkN0Cj-KmZPsf9w80C8b1WzNVrlanjD2SXJjxuCbUWHsXPZkFBy4Qr63BQKSyytxWB3SjjsGgK0lHsSMLiVZIKUrGNXwq5l1i7UNlTHr2wL3ADRozZFUrGyp2F9zy0vVoKkw89-RcQvfS-6RCKpWBUw1aEOnlaMpBO_cCixhqxF36vqnvnMcamHMkKARcxkgZDpxmtJVuOadNVlJ1O4-MQbR0msnurHQm3_vYm6azBsJbdDvQ0pAX6d68g-RaIYiCpxo1B5pAWEowdvKkVB6f_E_XQysHzbBBL511gg5yRHjTKyLaKeCvS6tI6Ue7T6kIGhTFkwxUjO7A6wjGPoc3esv4Ywli9A1S58DrPKbMV1rnq0dYBhQs59axT&sjdu=iMYN2Jly9sWyarqkEfXE5mk08BBOpcp3pYGzYADa6uVn7OC3DCWNiGDD5b1e2m2u2WJi_oaZ5ZeqGRnSSb1E0uTXjwX_1CW8-NhEEroXrMeyGmouCVyCauSCDVOG2g2tngKJn31rruz7NF1v4wPNSb5LDUCVObz6EAUsFekLErIpBJHaDsBLoJzh_X__sIWVI-zDlgpgF3wIMZanaHf28rApfn_Qx_WEgvZLmH_D2TfpAurgmrngMbUBeJA-VI12e7HFlosxcVUscCQmgoXPA6-1OCKfPzeoI9R1iY6aOfi2B4Nzs6CFo8N6ZuPsASj1eRKixf1VQqLQGo0CxEtWv73qCrFIBo3AuEc4mnCaZJLhHSCGQDbLZHnmCj0dRexGT3bfqTLONiZpZKzT7a41yZsY082_DSpTg9pIROgaL7dRSYbdN8ehgsYWosxq5_m-XowTNQFf7suJKsclP_UAygyLQzMytTZ1ja1hv9PiAOmy_LtdzpowrbxNaHvChHf-PoNUDV7KPMvt6bY4SA84nJRzlM013kjyswnNEDy-sB8zSDlgrtbbv8t7Uy9Ec8jsyG9gXKIdqZmHXu1xJZqn1A29iiZgUGDloMInzfiZRCQ')\n",
    "data = driver.find_element(By.CLASS_NAME, \"icl-u-xs-mt--xs.icl-u-textColor--secondary.jobsearch-JobInfoHeader-subtitle.jobsearch-DesktopStickyContainer-subtitle\")\n",
    "print(data.text)"
   ]
  },
  {
   "cell_type": "code",
   "execution_count": 109,
   "metadata": {},
   "outputs": [
    {
     "name": "stdout",
     "output_type": "stream",
     "text": [
      "Comcast\n"
     ]
    }
   ],
   "source": [
    "x = data.text.split('\\n')\n",
    "print(x[0])"
   ]
  },
  {
   "cell_type": "code",
   "execution_count": 99,
   "metadata": {},
   "outputs": [
    {
     "name": "stdout",
     "output_type": "stream",
     "text": [
      "Health insurance\n"
     ]
    }
   ],
   "source": [
    "benefits = driver.find_elements(By.CLASS_NAME, \"css-tvvxwd.ecydgvn1\")\n",
    "print(benefits[3].text)"
   ]
  },
  {
   "cell_type": "code",
   "execution_count": 101,
   "metadata": {},
   "outputs": [
    {
     "name": "stdout",
     "output_type": "stream",
     "text": [
      "Posted 30+ days ago\n"
     ]
    }
   ],
   "source": [
    "job_activity = driver.find_element(By.CLASS_NAME, \"jobsearch-HiringInsights-entry--text\")\n",
    "print(job_activity.text)"
   ]
  },
  {
   "cell_type": "code",
   "execution_count": 22,
   "metadata": {},
   "outputs": [
    {
     "ename": "NoSuchElementException",
     "evalue": "Message: no such element: Unable to locate element: {\"method\":\"css selector\",\"selector\":\".icl-u-xs-mt--xs.icl-u-textColor--secondary.jobsearch-JobInfoHeader-subtitle.jobsearch-DesktopStickyContainer-subtitle\"}\n  (Session info: chrome=106.0.5249.119)\nStacktrace:\nBacktrace:\n\tOrdinal0 [0x00C81ED3+2236115]\n\tOrdinal0 [0x00C192F1+1807089]\n\tOrdinal0 [0x00B266FD+812797]\n\tOrdinal0 [0x00B555DF+1005023]\n\tOrdinal0 [0x00B557CB+1005515]\n\tOrdinal0 [0x00B87632+1209906]\n\tOrdinal0 [0x00B71AD4+1120980]\n\tOrdinal0 [0x00B859E2+1202658]\n\tOrdinal0 [0x00B718A6+1120422]\n\tOrdinal0 [0x00B4A73D+960317]\n\tOrdinal0 [0x00B4B71F+964383]\n\tGetHandleVerifier [0x00F2E7E2+2743074]\n\tGetHandleVerifier [0x00F208D4+2685972]\n\tGetHandleVerifier [0x00D12BAA+532202]\n\tGetHandleVerifier [0x00D11990+527568]\n\tOrdinal0 [0x00C2080C+1837068]\n\tOrdinal0 [0x00C24CD8+1854680]\n\tOrdinal0 [0x00C24DC5+1854917]\n\tOrdinal0 [0x00C2ED64+1895780]\n\tBaseThreadInitThunk [0x74148744+36]\n\tRtlGetAppContainerNamedObjectPath [0x76F2582D+253]\n\tRtlGetAppContainerNamedObjectPath [0x76F257FD+205]\n",
     "output_type": "error",
     "traceback": [
      "\u001b[1;31m---------------------------------------------------------------------------\u001b[0m",
      "\u001b[1;31mNoSuchElementException\u001b[0m                    Traceback (most recent call last)",
      "\u001b[1;32m<ipython-input-22-607caba894be>\u001b[0m in \u001b[0;36m<module>\u001b[1;34m\u001b[0m\n\u001b[1;32m----> 1\u001b[1;33m \u001b[0mjob_title\u001b[0m\u001b[1;33m,\u001b[0m \u001b[0mcompany_name\u001b[0m\u001b[1;33m,\u001b[0m \u001b[0mcompany_location\u001b[0m\u001b[1;33m,\u001b[0m \u001b[0mjob_description\u001b[0m\u001b[1;33m,\u001b[0m \u001b[0mjob_activity\u001b[0m\u001b[1;33m,\u001b[0m \u001b[0mbenefits_list\u001b[0m \u001b[1;33m=\u001b[0m \u001b[0mscrape_from_individual_job_url\u001b[0m\u001b[1;33m(\u001b[0m\u001b[1;34m\"https://www.indeed.com/viewjob?jk=ecbcf343b3e3b8ce&tk=1gfjvhrjeg0n6802&from=serp&vjs=3&advn=4753071484186304&adid=359869966&ad=-6NYlbfkN0Cj-KmZPsf9w80C8b1WzNVrlanjD2SXJjxuCbUWHsXPZkFBy4Qr63BQKSyytxWB3SjjsGgK0lHsSMLiVZIKUrGNXwq5l1i7UNlTHr2wL3ADRozZFUrGyp2F9zy0vVoKkw89-RcQvfS-6RCKpWBUw1aEOnlaMpBO_cCixhqxF36vqnvnMcamHMkKARcxkgZDpxmtJVuOadNVlJ1O4-MQbR0msnurHQm3_vYm6azBsJbdDvQ0pAX6d68g-RaIYiCpxo1B5pAWEowdvKkVB6f_E_XQysHzbBBL511gg5yRHjTKyLaKeCvS6tI6Ue7T6kIGhTFkwxUjO7A6wjGPoc3esv4Ywli9A1S58DrPKbMV1rnq0dYBhQs59axT&sjdu=iMYN2Jly9sWyarqkEfXE5mk08BBOpcp3pYGzYADa6uVn7OC3DCWNiGDD5b1e2m2u2WJi_oaZ5ZeqGRnSSb1E0uTXjwX_1CW8-NhEEroXrMeyGmouCVyCauSCDVOG2g2tngKJn31rruz7NF1v4wPNSb5LDUCVObz6EAUsFekLErIpBJHaDsBLoJzh_X__sIWVI-zDlgpgF3wIMZanaHf28rApfn_Qx_WEgvZLmH_D2TfpAurgmrngMbUBeJA-VI12e7HFlosxcVUscCQmgoXPA6-1OCKfPzeoI9R1iY6aOfi2B4Nzs6CFo8N6ZuPsASj1eRKixf1VQqLQGo0CxEtWv73qCrFIBo3AuEc4mnCaZJLhHSCGQDbLZHnmCj0dRexGT3bfqTLONiZpZKzT7a41yZsY082_DSpTg9pIROgaL7dRSYbdN8ehgsYWosxq5_m-XowTNQFf7suJKsclP_UAygyLQzMytTZ1ja1hv9PiAOmy_LtdzpowrbxNaHvChHf-PoNUDV7KPMvt6bY4SA84nJRzlM013kjyswnNEDy-sB8zSDlgrtbbv8t7Uy9Ec8jsyG9gXKIdqZmHXu1xJZqn1A29iiZgUGDloMInzfiZRCQ\"\u001b[0m\u001b[1;33m)\u001b[0m\u001b[1;33m\u001b[0m\u001b[1;33m\u001b[0m\u001b[0m\n\u001b[0m",
      "\u001b[1;32m<ipython-input-10-62427ddce15a>\u001b[0m in \u001b[0;36mscrape_from_individual_job_url\u001b[1;34m(link)\u001b[0m\n\u001b[0;32m      4\u001b[0m     \u001b[1;31m#job_title = driver.find_element(By.CLASS_NAME, \"icl-u-xs-mb--xs.icl-u-xs-mt--none.jobsearch-JobInfoHeader-title\").text\u001b[0m\u001b[1;33m\u001b[0m\u001b[1;33m\u001b[0m\u001b[1;33m\u001b[0m\u001b[0m\n\u001b[0;32m      5\u001b[0m \u001b[1;33m\u001b[0m\u001b[0m\n\u001b[1;32m----> 6\u001b[1;33m     \u001b[0mdata\u001b[0m \u001b[1;33m=\u001b[0m \u001b[0mdriver\u001b[0m\u001b[1;33m.\u001b[0m\u001b[0mfind_element\u001b[0m\u001b[1;33m(\u001b[0m\u001b[0mBy\u001b[0m\u001b[1;33m.\u001b[0m\u001b[0mCLASS_NAME\u001b[0m\u001b[1;33m,\u001b[0m \u001b[1;34m\"icl-u-xs-mt--xs.icl-u-textColor--secondary.jobsearch-JobInfoHeader-subtitle.jobsearch-DesktopStickyContainer-subtitle\"\u001b[0m\u001b[1;33m)\u001b[0m\u001b[1;33m\u001b[0m\u001b[1;33m\u001b[0m\u001b[0m\n\u001b[0m\u001b[0;32m      7\u001b[0m     \u001b[0mdata_list\u001b[0m \u001b[1;33m=\u001b[0m \u001b[0mdata\u001b[0m\u001b[1;33m.\u001b[0m\u001b[0mtext\u001b[0m\u001b[1;33m.\u001b[0m\u001b[0msplit\u001b[0m\u001b[1;33m(\u001b[0m\u001b[1;34m'\\n'\u001b[0m\u001b[1;33m)\u001b[0m\u001b[1;33m\u001b[0m\u001b[1;33m\u001b[0m\u001b[0m\n\u001b[0;32m      8\u001b[0m     \u001b[0mcompany_name\u001b[0m \u001b[1;33m=\u001b[0m \u001b[0mdata_list\u001b[0m\u001b[1;33m[\u001b[0m\u001b[1;36m0\u001b[0m\u001b[1;33m]\u001b[0m\u001b[1;33m\u001b[0m\u001b[1;33m\u001b[0m\u001b[0m\n",
      "\u001b[1;32m~\\anaconda3\\lib\\site-packages\\selenium\\webdriver\\remote\\webdriver.py\u001b[0m in \u001b[0;36mfind_element\u001b[1;34m(self, by, value)\u001b[0m\n\u001b[0;32m    854\u001b[0m             \u001b[0mvalue\u001b[0m \u001b[1;33m=\u001b[0m \u001b[1;34m'[name=\"%s\"]'\u001b[0m \u001b[1;33m%\u001b[0m \u001b[0mvalue\u001b[0m\u001b[1;33m\u001b[0m\u001b[1;33m\u001b[0m\u001b[0m\n\u001b[0;32m    855\u001b[0m \u001b[1;33m\u001b[0m\u001b[0m\n\u001b[1;32m--> 856\u001b[1;33m         return self.execute(Command.FIND_ELEMENT, {\n\u001b[0m\u001b[0;32m    857\u001b[0m             \u001b[1;34m'using'\u001b[0m\u001b[1;33m:\u001b[0m \u001b[0mby\u001b[0m\u001b[1;33m,\u001b[0m\u001b[1;33m\u001b[0m\u001b[1;33m\u001b[0m\u001b[0m\n\u001b[0;32m    858\u001b[0m             'value': value})['value']\n",
      "\u001b[1;32m~\\anaconda3\\lib\\site-packages\\selenium\\webdriver\\remote\\webdriver.py\u001b[0m in \u001b[0;36mexecute\u001b[1;34m(self, driver_command, params)\u001b[0m\n\u001b[0;32m    427\u001b[0m         \u001b[0mresponse\u001b[0m \u001b[1;33m=\u001b[0m \u001b[0mself\u001b[0m\u001b[1;33m.\u001b[0m\u001b[0mcommand_executor\u001b[0m\u001b[1;33m.\u001b[0m\u001b[0mexecute\u001b[0m\u001b[1;33m(\u001b[0m\u001b[0mdriver_command\u001b[0m\u001b[1;33m,\u001b[0m \u001b[0mparams\u001b[0m\u001b[1;33m)\u001b[0m\u001b[1;33m\u001b[0m\u001b[1;33m\u001b[0m\u001b[0m\n\u001b[0;32m    428\u001b[0m         \u001b[1;32mif\u001b[0m \u001b[0mresponse\u001b[0m\u001b[1;33m:\u001b[0m\u001b[1;33m\u001b[0m\u001b[1;33m\u001b[0m\u001b[0m\n\u001b[1;32m--> 429\u001b[1;33m             \u001b[0mself\u001b[0m\u001b[1;33m.\u001b[0m\u001b[0merror_handler\u001b[0m\u001b[1;33m.\u001b[0m\u001b[0mcheck_response\u001b[0m\u001b[1;33m(\u001b[0m\u001b[0mresponse\u001b[0m\u001b[1;33m)\u001b[0m\u001b[1;33m\u001b[0m\u001b[1;33m\u001b[0m\u001b[0m\n\u001b[0m\u001b[0;32m    430\u001b[0m             response['value'] = self._unwrap_value(\n\u001b[0;32m    431\u001b[0m                 response.get('value', None))\n",
      "\u001b[1;32m~\\anaconda3\\lib\\site-packages\\selenium\\webdriver\\remote\\errorhandler.py\u001b[0m in \u001b[0;36mcheck_response\u001b[1;34m(self, response)\u001b[0m\n\u001b[0;32m    241\u001b[0m                 \u001b[0malert_text\u001b[0m \u001b[1;33m=\u001b[0m \u001b[0mvalue\u001b[0m\u001b[1;33m[\u001b[0m\u001b[1;34m'alert'\u001b[0m\u001b[1;33m]\u001b[0m\u001b[1;33m.\u001b[0m\u001b[0mget\u001b[0m\u001b[1;33m(\u001b[0m\u001b[1;34m'text'\u001b[0m\u001b[1;33m)\u001b[0m\u001b[1;33m\u001b[0m\u001b[1;33m\u001b[0m\u001b[0m\n\u001b[0;32m    242\u001b[0m             \u001b[1;32mraise\u001b[0m \u001b[0mexception_class\u001b[0m\u001b[1;33m(\u001b[0m\u001b[0mmessage\u001b[0m\u001b[1;33m,\u001b[0m \u001b[0mscreen\u001b[0m\u001b[1;33m,\u001b[0m \u001b[0mstacktrace\u001b[0m\u001b[1;33m,\u001b[0m \u001b[0malert_text\u001b[0m\u001b[1;33m)\u001b[0m  \u001b[1;31m# type: ignore[call-arg]  # mypy is not smart enough here\u001b[0m\u001b[1;33m\u001b[0m\u001b[1;33m\u001b[0m\u001b[0m\n\u001b[1;32m--> 243\u001b[1;33m         \u001b[1;32mraise\u001b[0m \u001b[0mexception_class\u001b[0m\u001b[1;33m(\u001b[0m\u001b[0mmessage\u001b[0m\u001b[1;33m,\u001b[0m \u001b[0mscreen\u001b[0m\u001b[1;33m,\u001b[0m \u001b[0mstacktrace\u001b[0m\u001b[1;33m)\u001b[0m\u001b[1;33m\u001b[0m\u001b[1;33m\u001b[0m\u001b[0m\n\u001b[0m",
      "\u001b[1;31mNoSuchElementException\u001b[0m: Message: no such element: Unable to locate element: {\"method\":\"css selector\",\"selector\":\".icl-u-xs-mt--xs.icl-u-textColor--secondary.jobsearch-JobInfoHeader-subtitle.jobsearch-DesktopStickyContainer-subtitle\"}\n  (Session info: chrome=106.0.5249.119)\nStacktrace:\nBacktrace:\n\tOrdinal0 [0x00C81ED3+2236115]\n\tOrdinal0 [0x00C192F1+1807089]\n\tOrdinal0 [0x00B266FD+812797]\n\tOrdinal0 [0x00B555DF+1005023]\n\tOrdinal0 [0x00B557CB+1005515]\n\tOrdinal0 [0x00B87632+1209906]\n\tOrdinal0 [0x00B71AD4+1120980]\n\tOrdinal0 [0x00B859E2+1202658]\n\tOrdinal0 [0x00B718A6+1120422]\n\tOrdinal0 [0x00B4A73D+960317]\n\tOrdinal0 [0x00B4B71F+964383]\n\tGetHandleVerifier [0x00F2E7E2+2743074]\n\tGetHandleVerifier [0x00F208D4+2685972]\n\tGetHandleVerifier [0x00D12BAA+532202]\n\tGetHandleVerifier [0x00D11990+527568]\n\tOrdinal0 [0x00C2080C+1837068]\n\tOrdinal0 [0x00C24CD8+1854680]\n\tOrdinal0 [0x00C24DC5+1854917]\n\tOrdinal0 [0x00C2ED64+1895780]\n\tBaseThreadInitThunk [0x74148744+36]\n\tRtlGetAppContainerNamedObjectPath [0x76F2582D+253]\n\tRtlGetAppContainerNamedObjectPath [0x76F257FD+205]\n"
     ]
    }
   ],
   "source": [
    "job_title, company_name, company_location, job_description, job_activity, benefits_list = scrape_from_individual_job_url(\"\")"
   ]
  },
  {
   "cell_type": "code",
   "execution_count": 182,
   "metadata": {},
   "outputs": [
    {
     "data": {
      "text/plain": [
       "'Senior Data Scientist'"
      ]
     },
     "execution_count": 182,
     "metadata": {},
     "output_type": "execute_result"
    }
   ],
   "source": [
    "job_title"
   ]
  },
  {
   "cell_type": "code",
   "execution_count": 183,
   "metadata": {},
   "outputs": [
    {
     "data": {
      "text/plain": [
       "'Comcast'"
      ]
     },
     "execution_count": 183,
     "metadata": {},
     "output_type": "execute_result"
    }
   ],
   "source": [
    "company_name"
   ]
  },
  {
   "cell_type": "code",
   "execution_count": 184,
   "metadata": {},
   "outputs": [
    {
     "data": {
      "text/plain": [
       "'Philadelphia, PA 19103'"
      ]
     },
     "execution_count": 184,
     "metadata": {},
     "output_type": "execute_result"
    }
   ],
   "source": [
    "company_location"
   ]
  },
  {
   "cell_type": "code",
   "execution_count": 185,
   "metadata": {},
   "outputs": [
    {
     "data": {
      "text/plain": [
       "\"Comcast’s Technology, Product & Experience organization works at the intersection of media and technology. Our innovative teams are continually developing and delivering products that transform the customer experience. From creating apps like TVGo to new features such as the Talking Guide on the X1 platform, we work every day to make a positive impact through innovation in the pursuit of building amazing products that are enjoyable, easy to use and accessible across all platforms. The team also develops and supports our evolving network architecture, including next-generation consumer systems and technologies, infrastructure and engineering, network integration and management tools, and technical standards. We offer a flexible working environment to balance the need to work independently wherever you choose, with days that require collaboration at one of our offices. Our roles primarily reside inside or around one of our Tech Hubs (Philadelphia and surrounding suburbs, Denver, Austin, Silicon Valley, Washington DC/N. Virginia). Some roles can work virtual full-time if they are not near a Tech Hub, but that is dependent upon the needs of the position and amount of collaboration required.\\nJob Summary Responsible for leveraging internal and external data to provide insights and information which supports a facts-based decision making process. Provides input into strategy, analysis methods and tool selection. Acts as a key contributor in a complex and crucial environment. May lead teams or projects and shares expertise.\\nJob Description\\nThe Technology, Product, Experience (TPX) organization works at the intersection of media and technology and our innovative teams are continually developing and delivering products and next-generation technologies that transform the customer experience. The Comcast Network and CONNECTivity (CONNECT) organization is a highly agile, fast-paced, dedicated group at the forefront of change focused on innovating, building, and operating the best in class, most reliable access network for our customers.\\n\\nThe CONNECT team is looking for a Senior Data Scientist with a drive for understanding and making impactful decisions through insightful use of data to join Comcast. We are using cutting edge cloud technology and data analytical frameworks to help provide our customers with accurate information to help influence their business decisions.\\n\\nBring a combination of mathematical rigor and innovative algorithm design to create recipes that extract relevant insights from billions of rows of data to meaningfully improve Comcast user experience.\\nDo you like big challenges and working within a highly-motivated team environment? As a Senior Data Scientist, you will research, develop, support and apply new techniques using real-time distributed computing architectures. You will employ your skills to deliver insights into customer and network behavior to drive business decisions that will shape the future of Comcast and be part of a team that thrives on big challenges, results, quality, and agility.\\n\\nWho does the Senior Data Scientist work with?\\nThe Data Engineering and Science team as part of our CONNECTivity team is a diverse collection of professionals who work with a variety of organizational roles ranging from software engineering teams whose software integrates with analytics services, network architects and engineers, to service delivery engineers who provide support for our product, testers, operational stakeholders with all manner of information needs, and executives who rely on data for data based decision making.\\n\\nWhat are some interesting problems you’ll be working on?\\nDevelop models capable of processing millions of events per second and multi-billions of events per day, providing both a real time and historical view into the operation of our products and services. Work on high performance real time data stores and a massive historical data sets using best-of-breed and industry leading technology. Work closely with various engineering teams to solve key optimization, insight and access network data challenges.\\n\\nWhere can you make an impact?\\nThe Comcast CONNECTivity Data Engineering and Science team is acquiring, studying, simulating, and modeling to enable data as a key driver and core functional component toward better understanding, predicting, and dynamically optimizing the access network to improve overall user experience. Success in this role is best enabled by a broad mix of skills and interests ranging from traditional distributed systems software engineering prowess to the multidisciplinary field of data science.\\n\\nSkills & Experience We're Looking For:\\nKey skillsets: Statistical analysis, machine learning, software development, code fluency (SQL, Spark, Python, R)\\nStrong problem-solving skills\\nProficiency in at least one language (R, Python, SLQ, etc.) to manipulate data and draw insights from large data sets\\nExperience using Spark and machine learning packages (Tensorflow, Keras, Pytorch) to build models\\nExtensive knowledge and working experience on a variety of machine learning techniques (clustering, decision trees, artificial neural networks, etc.) and their real-world advantages/drawbacks\\nCoding background with several languages: Java, JavaScript, etc.\\nKnowledge and experience in statistical and data mining techniques: GLM/Regression, Random Forest, Boosting, Trees, text mining, social network analysis, etc.\\nAdvanced degree in Statistics, Mathematics, Computer Science or another quantitative field\\n4-5+ years of experience manipulating data sets and building statistical models\\n\\nAbout Our Perks & Benefits:\\nWe are determined to create an environment where our employees feel valued, understand our business goals, and are motivated.\\n\\nHere's a look at just some of the perks and benefits we make available to our US-based employees:\\nMedical & Dental\\n401(k) Savings Plan\\nGenerous paid time off\\nLife Milestones - from adoption assistance, childcare resources, pet insurance, and more, Comcast supports you at all life stages.\\nCourtesy Services - We offer all of our full-time employees in serviceable areas free digital TV and internet.\\nDiscount tickets for Universal Resorts, including theme park tickets and onsite hotel rooms. Learn more at jobs.comcast.com/life-at-comcast/benefits\\n\\nReasonable Accommodation\\nWe will ensure that individuals with disabilities are provided reasonable accommodation to participate in the job application or interview process, perform essential job functions, and receive other benefits and privileges of employment. Please contact us to request an accommodation.\\n\\nDisclaimer:\\nThis information has been designed to indicate the general nature and level of work performed by employees in this role. It is not designed to contain or be interpreted as a comprehensive inventory of all duties, responsibilities and qualifications.\\n\\nComcast is an EOE/Veterans/Disabled/LGBT employer.\\nComcast is proud to be an equal opportunity workplace. We will consider all qualified applicants for employment without regard to race, color, religion, age, sex, sexual orientation, gender identity, national origin, disability, veteran status, or any other basis protected by applicable law.\\nEducation\\nMaster's Degree\\nWhile possessing the stated degree is preferred, Comcast also may consider applicants who hold some combination of coursework and experience, or who have extensive related professional experience.\\nRelevant Work Experience\\n7-10 Years\\nBase pay is one part of the Total Rewards that Comcast provides to compensate and recognize employees for their work. Most sales positions are eligible for a Commission under the terms of an applicable plan, while most non-sales positions are eligible for a Bonus. Additionally, Comcast provides best-in-class Benefits. We believe that benefits should connect you to the support you need when it matters most, and should help you care for those who matter most. That’s why we provide an array of options, expert guidance and always-on tools, that are personalized to meet the needs of your reality – to help support you physically, financially and emotionally through the big milestones and in your everyday life. Please visit the compensation and benefits summary on our careers site for more details.\""
      ]
     },
     "execution_count": 185,
     "metadata": {},
     "output_type": "execute_result"
    }
   ],
   "source": [
    "job_description"
   ]
  },
  {
   "cell_type": "code",
   "execution_count": 186,
   "metadata": {},
   "outputs": [
    {
     "data": {
      "text/plain": [
       "'Posted 30+ days ago'"
      ]
     },
     "execution_count": 186,
     "metadata": {},
     "output_type": "execute_result"
    }
   ],
   "source": [
    "job_activity"
   ]
  },
  {
   "cell_type": "code",
   "execution_count": 187,
   "metadata": {},
   "outputs": [
    {
     "data": {
      "text/plain": [
       "['401(k)',\n",
       " 'Adoption assistance',\n",
       " 'Dental insurance',\n",
       " 'Health insurance',\n",
       " 'Paid time off',\n",
       " 'Pet insurance']"
      ]
     },
     "execution_count": 187,
     "metadata": {},
     "output_type": "execute_result"
    }
   ],
   "source": [
    "benefits_list"
   ]
  },
  {
   "cell_type": "code",
   "execution_count": null,
   "metadata": {},
   "outputs": [],
   "source": [
    "# Copied from this stackoverflow link. Maybe can fix? https://stackoverflow.com/questions/51775122/nosuchwindowexception-no-such-window-window-was-already-closed-while-switchi\n",
    "\n",
    "from selenium import webdriver\n",
    "from selenium.webdriver.support import expected_conditions as EC\n",
    "from selenium.webdriver.support.ui import WebDriverWait\n",
    "from selenium.webdriver.common.by import By\n",
    "\n",
    "url = \"your_url\"\n",
    "driver = webdriver.Chrome(executable_path = r'S:\\Engineering\\Jake\\MasterControl Completing Pipette CalPM Forms\\chromedriver')\n",
    "driver.get(url)\n",
    "windows_before  = driver.current_window_handle\n",
    "driver.find_element_by_id('portal.scheduling.prepopulate').click()\n",
    "WebDriverWait(driver, 5).until(EC.number_of_windows_to_be(2))\n",
    "windows_after = driver.window_handles\n",
    "new_window = [x for x in windows_after if x != windows_before][0]\n",
    "# driver.switch_to_window(new_window) <!---deprecated>\n",
    "driver.switch_to.window(new_window)\n",
    "WebDriverWait(driver, 5).until(EC.frame_to_be_available_and_switch_to_it((By.ID,\"myframe\"))) # or By.NAME, By.XPATH, By.CSS_SELECTOR"
   ]
  },
  {
   "cell_type": "code",
   "execution_count": 221,
   "metadata": {
    "scrolled": false
   },
   "outputs": [
    {
     "name": "stderr",
     "output_type": "stream",
     "text": [
      "<ipython-input-220-b293d0871049>:2: DeprecationWarning: executable_path has been deprecated, please pass in a Service object\n",
      "  driver = webdriver.Chrome(executable_path=\"C:/Users/Allen/Desktop/chromedriver.exe\")\n"
     ]
    },
    {
     "ename": "NoSuchWindowException",
     "evalue": "Message: no such window: target window already closed\nfrom unknown error: web view not found\n  (Session info: chrome=106.0.5249.119)\nStacktrace:\nBacktrace:\n\tOrdinal0 [0x01031ED3+2236115]\n\tOrdinal0 [0x00FC92F1+1807089]\n\tOrdinal0 [0x00ED66FD+812797]\n\tOrdinal0 [0x00EBDFFA+712698]\n\tOrdinal0 [0x00F2506B+1134699]\n\tOrdinal0 [0x00F3514A+1200458]\n\tOrdinal0 [0x00F218A6+1120422]\n\tOrdinal0 [0x00EFA73D+960317]\n\tOrdinal0 [0x00EFB71F+964383]\n\tGetHandleVerifier [0x012DE7E2+2743074]\n\tGetHandleVerifier [0x012D08D4+2685972]\n\tGetHandleVerifier [0x010C2BAA+532202]\n\tGetHandleVerifier [0x010C1990+527568]\n\tOrdinal0 [0x00FD080C+1837068]\n\tOrdinal0 [0x00FD4CD8+1854680]\n\tOrdinal0 [0x00FD4DC5+1854917]\n\tOrdinal0 [0x00FDED64+1895780]\n\tBaseThreadInitThunk [0x77938744+36]\n\tRtlGetAppContainerNamedObjectPath [0x77D2582D+253]\n\tRtlGetAppContainerNamedObjectPath [0x77D257FD+205]\n",
     "output_type": "error",
     "traceback": [
      "\u001b[1;31m---------------------------------------------------------------------------\u001b[0m",
      "\u001b[1;31mNoSuchWindowException\u001b[0m                     Traceback (most recent call last)",
      "\u001b[1;32m<ipython-input-220-b293d0871049>\u001b[0m in \u001b[0;36mscrape_all_job_data\u001b[1;34m(job_title_to_search, city)\u001b[0m\n\u001b[0;32m     17\u001b[0m             \u001b[0mdriver\u001b[0m\u001b[1;33m.\u001b[0m\u001b[0mget\u001b[0m\u001b[1;33m(\u001b[0m\u001b[0mlink\u001b[0m\u001b[1;33m)\u001b[0m\u001b[1;33m\u001b[0m\u001b[1;33m\u001b[0m\u001b[0m\n\u001b[1;32m---> 18\u001b[1;33m             \u001b[0mjob_title\u001b[0m\u001b[1;33m,\u001b[0m \u001b[0mcompany_name\u001b[0m\u001b[1;33m,\u001b[0m \u001b[0mcompany_location\u001b[0m\u001b[1;33m,\u001b[0m \u001b[0mjob_description\u001b[0m\u001b[1;33m,\u001b[0m \u001b[0mjob_activity\u001b[0m\u001b[1;33m,\u001b[0m \u001b[0mbenefits_list\u001b[0m \u001b[1;33m=\u001b[0m \u001b[0mscrape_from_individual_job_url\u001b[0m\u001b[1;33m(\u001b[0m\u001b[0mlink\u001b[0m\u001b[1;33m)\u001b[0m\u001b[1;33m\u001b[0m\u001b[1;33m\u001b[0m\u001b[0m\n\u001b[0m\u001b[0;32m     19\u001b[0m \u001b[1;33m\u001b[0m\u001b[0m\n",
      "\u001b[1;32m<ipython-input-142-41d584ae4cfb>\u001b[0m in \u001b[0;36mscrape_from_individual_job_url\u001b[1;34m(link)\u001b[0m\n\u001b[0;32m      3\u001b[0m \u001b[1;33m\u001b[0m\u001b[0m\n\u001b[1;32m----> 4\u001b[1;33m     \u001b[0mjob_title\u001b[0m \u001b[1;33m=\u001b[0m \u001b[0mdriver\u001b[0m\u001b[1;33m.\u001b[0m\u001b[0mfind_element\u001b[0m\u001b[1;33m(\u001b[0m\u001b[0mBy\u001b[0m\u001b[1;33m.\u001b[0m\u001b[0mCLASS_NAME\u001b[0m\u001b[1;33m,\u001b[0m \u001b[1;34m\"icl-u-xs-mb--xs.icl-u-xs-mt--none.jobsearch-JobInfoHeader-title\"\u001b[0m\u001b[1;33m)\u001b[0m\u001b[1;33m.\u001b[0m\u001b[0mtext\u001b[0m\u001b[1;33m\u001b[0m\u001b[1;33m\u001b[0m\u001b[0m\n\u001b[0m\u001b[0;32m      5\u001b[0m \u001b[1;33m\u001b[0m\u001b[0m\n",
      "\u001b[1;32m~\\anaconda3\\lib\\site-packages\\selenium\\webdriver\\remote\\webdriver.py\u001b[0m in \u001b[0;36mfind_element\u001b[1;34m(self, by, value)\u001b[0m\n\u001b[0;32m    855\u001b[0m \u001b[1;33m\u001b[0m\u001b[0m\n\u001b[1;32m--> 856\u001b[1;33m         return self.execute(Command.FIND_ELEMENT, {\n\u001b[0m\u001b[0;32m    857\u001b[0m             \u001b[1;34m'using'\u001b[0m\u001b[1;33m:\u001b[0m \u001b[0mby\u001b[0m\u001b[1;33m,\u001b[0m\u001b[1;33m\u001b[0m\u001b[1;33m\u001b[0m\u001b[0m\n",
      "\u001b[1;32m~\\anaconda3\\lib\\site-packages\\selenium\\webdriver\\remote\\webdriver.py\u001b[0m in \u001b[0;36mexecute\u001b[1;34m(self, driver_command, params)\u001b[0m\n\u001b[0;32m    428\u001b[0m         \u001b[1;32mif\u001b[0m \u001b[0mresponse\u001b[0m\u001b[1;33m:\u001b[0m\u001b[1;33m\u001b[0m\u001b[1;33m\u001b[0m\u001b[0m\n\u001b[1;32m--> 429\u001b[1;33m             \u001b[0mself\u001b[0m\u001b[1;33m.\u001b[0m\u001b[0merror_handler\u001b[0m\u001b[1;33m.\u001b[0m\u001b[0mcheck_response\u001b[0m\u001b[1;33m(\u001b[0m\u001b[0mresponse\u001b[0m\u001b[1;33m)\u001b[0m\u001b[1;33m\u001b[0m\u001b[1;33m\u001b[0m\u001b[0m\n\u001b[0m\u001b[0;32m    430\u001b[0m             response['value'] = self._unwrap_value(\n",
      "\u001b[1;32m~\\anaconda3\\lib\\site-packages\\selenium\\webdriver\\remote\\errorhandler.py\u001b[0m in \u001b[0;36mcheck_response\u001b[1;34m(self, response)\u001b[0m\n\u001b[0;32m    242\u001b[0m             \u001b[1;32mraise\u001b[0m \u001b[0mexception_class\u001b[0m\u001b[1;33m(\u001b[0m\u001b[0mmessage\u001b[0m\u001b[1;33m,\u001b[0m \u001b[0mscreen\u001b[0m\u001b[1;33m,\u001b[0m \u001b[0mstacktrace\u001b[0m\u001b[1;33m,\u001b[0m \u001b[0malert_text\u001b[0m\u001b[1;33m)\u001b[0m  \u001b[1;31m# type: ignore[call-arg]  # mypy is not smart enough here\u001b[0m\u001b[1;33m\u001b[0m\u001b[1;33m\u001b[0m\u001b[0m\n\u001b[1;32m--> 243\u001b[1;33m         \u001b[1;32mraise\u001b[0m \u001b[0mexception_class\u001b[0m\u001b[1;33m(\u001b[0m\u001b[0mmessage\u001b[0m\u001b[1;33m,\u001b[0m \u001b[0mscreen\u001b[0m\u001b[1;33m,\u001b[0m \u001b[0mstacktrace\u001b[0m\u001b[1;33m)\u001b[0m\u001b[1;33m\u001b[0m\u001b[1;33m\u001b[0m\u001b[0m\n\u001b[0m",
      "\u001b[1;31mNoSuchWindowException\u001b[0m: Message: no such window: target window already closed\nfrom unknown error: web view not found\n  (Session info: chrome=106.0.5249.119)\nStacktrace:\nBacktrace:\n\tOrdinal0 [0x01031ED3+2236115]\n\tOrdinal0 [0x00FC92F1+1807089]\n\tOrdinal0 [0x00ED66FD+812797]\n\tOrdinal0 [0x00EBDFFA+712698]\n\tOrdinal0 [0x00F2506B+1134699]\n\tOrdinal0 [0x00F3514A+1200458]\n\tOrdinal0 [0x00F218A6+1120422]\n\tOrdinal0 [0x00EFA73D+960317]\n\tOrdinal0 [0x00EFB71F+964383]\n\tGetHandleVerifier [0x012DE7E2+2743074]\n\tGetHandleVerifier [0x012D08D4+2685972]\n\tGetHandleVerifier [0x010C2BAA+532202]\n\tGetHandleVerifier [0x010C1990+527568]\n\tOrdinal0 [0x00FD080C+1837068]\n\tOrdinal0 [0x00FD4CD8+1854680]\n\tOrdinal0 [0x00FD4DC5+1854917]\n\tOrdinal0 [0x00FDED64+1895780]\n\tBaseThreadInitThunk [0x77938744+36]\n\tRtlGetAppContainerNamedObjectPath [0x77D2582D+253]\n\tRtlGetAppContainerNamedObjectPath [0x77D257FD+205]\n",
      "\nDuring handling of the above exception, another exception occurred:\n",
      "\u001b[1;31mNoSuchWindowException\u001b[0m                     Traceback (most recent call last)",
      "\u001b[1;32m<ipython-input-221-6c6cdeaec19e>\u001b[0m in \u001b[0;36m<module>\u001b[1;34m\u001b[0m\n\u001b[1;32m----> 1\u001b[1;33m \u001b[0mdf\u001b[0m \u001b[1;33m=\u001b[0m \u001b[0mscrape_all_job_data\u001b[0m\u001b[1;33m(\u001b[0m\u001b[1;34m\"Data Scientist\"\u001b[0m\u001b[1;33m,\u001b[0m \u001b[1;34m\"Philadelphia\"\u001b[0m\u001b[1;33m)\u001b[0m\u001b[1;33m\u001b[0m\u001b[1;33m\u001b[0m\u001b[0m\n\u001b[0m",
      "\u001b[1;32m<ipython-input-220-b293d0871049>\u001b[0m in \u001b[0;36mscrape_all_job_data\u001b[1;34m(job_title_to_search, city)\u001b[0m\n\u001b[0;32m     26\u001b[0m \u001b[1;33m\u001b[0m\u001b[0m\n\u001b[0;32m     27\u001b[0m         \u001b[1;32mexcept\u001b[0m \u001b[1;33m(\u001b[0m\u001b[0mNoSuchWindowException\u001b[0m\u001b[1;33m,\u001b[0m \u001b[0mNoSuchElementException\u001b[0m\u001b[1;33m)\u001b[0m\u001b[1;33m:\u001b[0m\u001b[1;33m\u001b[0m\u001b[1;33m\u001b[0m\u001b[0m\n\u001b[1;32m---> 28\u001b[1;33m             \u001b[0mjob_title\u001b[0m\u001b[1;33m,\u001b[0m \u001b[0mcompany_name\u001b[0m\u001b[1;33m,\u001b[0m \u001b[0mcompany_location\u001b[0m\u001b[1;33m,\u001b[0m \u001b[0mjob_description\u001b[0m\u001b[1;33m,\u001b[0m \u001b[0mjob_activity\u001b[0m\u001b[1;33m,\u001b[0m \u001b[0mbenefits_list\u001b[0m \u001b[1;33m=\u001b[0m \u001b[0mscrape_from_individual_job_url\u001b[0m\u001b[1;33m(\u001b[0m\u001b[0mlink\u001b[0m\u001b[1;33m)\u001b[0m\u001b[1;33m\u001b[0m\u001b[1;33m\u001b[0m\u001b[0m\n\u001b[0m\u001b[0;32m     29\u001b[0m \u001b[1;33m\u001b[0m\u001b[0m\n\u001b[0;32m     30\u001b[0m             \u001b[0mjob_titles\u001b[0m\u001b[1;33m.\u001b[0m\u001b[0mappend\u001b[0m\u001b[1;33m(\u001b[0m\u001b[0mjob_title\u001b[0m\u001b[1;33m)\u001b[0m\u001b[1;33m\u001b[0m\u001b[1;33m\u001b[0m\u001b[0m\n",
      "\u001b[1;32m<ipython-input-142-41d584ae4cfb>\u001b[0m in \u001b[0;36mscrape_from_individual_job_url\u001b[1;34m(link)\u001b[0m\n\u001b[0;32m      2\u001b[0m     \u001b[0mtime\u001b[0m\u001b[1;33m.\u001b[0m\u001b[0msleep\u001b[0m\u001b[1;33m(\u001b[0m\u001b[1;36m5\u001b[0m\u001b[1;33m)\u001b[0m\u001b[1;33m\u001b[0m\u001b[1;33m\u001b[0m\u001b[0m\n\u001b[0;32m      3\u001b[0m \u001b[1;33m\u001b[0m\u001b[0m\n\u001b[1;32m----> 4\u001b[1;33m     \u001b[0mjob_title\u001b[0m \u001b[1;33m=\u001b[0m \u001b[0mdriver\u001b[0m\u001b[1;33m.\u001b[0m\u001b[0mfind_element\u001b[0m\u001b[1;33m(\u001b[0m\u001b[0mBy\u001b[0m\u001b[1;33m.\u001b[0m\u001b[0mCLASS_NAME\u001b[0m\u001b[1;33m,\u001b[0m \u001b[1;34m\"icl-u-xs-mb--xs.icl-u-xs-mt--none.jobsearch-JobInfoHeader-title\"\u001b[0m\u001b[1;33m)\u001b[0m\u001b[1;33m.\u001b[0m\u001b[0mtext\u001b[0m\u001b[1;33m\u001b[0m\u001b[1;33m\u001b[0m\u001b[0m\n\u001b[0m\u001b[0;32m      5\u001b[0m \u001b[1;33m\u001b[0m\u001b[0m\n\u001b[0;32m      6\u001b[0m     \u001b[0mdata\u001b[0m \u001b[1;33m=\u001b[0m \u001b[0mdriver\u001b[0m\u001b[1;33m.\u001b[0m\u001b[0mfind_element\u001b[0m\u001b[1;33m(\u001b[0m\u001b[0mBy\u001b[0m\u001b[1;33m.\u001b[0m\u001b[0mCLASS_NAME\u001b[0m\u001b[1;33m,\u001b[0m \u001b[1;34m\"icl-u-xs-mt--xs.icl-u-textColor--secondary.jobsearch-JobInfoHeader-subtitle.jobsearch-DesktopStickyContainer-subtitle\"\u001b[0m\u001b[1;33m)\u001b[0m\u001b[1;33m\u001b[0m\u001b[1;33m\u001b[0m\u001b[0m\n",
      "\u001b[1;32m~\\anaconda3\\lib\\site-packages\\selenium\\webdriver\\remote\\webdriver.py\u001b[0m in \u001b[0;36mfind_element\u001b[1;34m(self, by, value)\u001b[0m\n\u001b[0;32m    854\u001b[0m             \u001b[0mvalue\u001b[0m \u001b[1;33m=\u001b[0m \u001b[1;34m'[name=\"%s\"]'\u001b[0m \u001b[1;33m%\u001b[0m \u001b[0mvalue\u001b[0m\u001b[1;33m\u001b[0m\u001b[1;33m\u001b[0m\u001b[0m\n\u001b[0;32m    855\u001b[0m \u001b[1;33m\u001b[0m\u001b[0m\n\u001b[1;32m--> 856\u001b[1;33m         return self.execute(Command.FIND_ELEMENT, {\n\u001b[0m\u001b[0;32m    857\u001b[0m             \u001b[1;34m'using'\u001b[0m\u001b[1;33m:\u001b[0m \u001b[0mby\u001b[0m\u001b[1;33m,\u001b[0m\u001b[1;33m\u001b[0m\u001b[1;33m\u001b[0m\u001b[0m\n\u001b[0;32m    858\u001b[0m             'value': value})['value']\n",
      "\u001b[1;32m~\\anaconda3\\lib\\site-packages\\selenium\\webdriver\\remote\\webdriver.py\u001b[0m in \u001b[0;36mexecute\u001b[1;34m(self, driver_command, params)\u001b[0m\n\u001b[0;32m    427\u001b[0m         \u001b[0mresponse\u001b[0m \u001b[1;33m=\u001b[0m \u001b[0mself\u001b[0m\u001b[1;33m.\u001b[0m\u001b[0mcommand_executor\u001b[0m\u001b[1;33m.\u001b[0m\u001b[0mexecute\u001b[0m\u001b[1;33m(\u001b[0m\u001b[0mdriver_command\u001b[0m\u001b[1;33m,\u001b[0m \u001b[0mparams\u001b[0m\u001b[1;33m)\u001b[0m\u001b[1;33m\u001b[0m\u001b[1;33m\u001b[0m\u001b[0m\n\u001b[0;32m    428\u001b[0m         \u001b[1;32mif\u001b[0m \u001b[0mresponse\u001b[0m\u001b[1;33m:\u001b[0m\u001b[1;33m\u001b[0m\u001b[1;33m\u001b[0m\u001b[0m\n\u001b[1;32m--> 429\u001b[1;33m             \u001b[0mself\u001b[0m\u001b[1;33m.\u001b[0m\u001b[0merror_handler\u001b[0m\u001b[1;33m.\u001b[0m\u001b[0mcheck_response\u001b[0m\u001b[1;33m(\u001b[0m\u001b[0mresponse\u001b[0m\u001b[1;33m)\u001b[0m\u001b[1;33m\u001b[0m\u001b[1;33m\u001b[0m\u001b[0m\n\u001b[0m\u001b[0;32m    430\u001b[0m             response['value'] = self._unwrap_value(\n\u001b[0;32m    431\u001b[0m                 response.get('value', None))\n",
      "\u001b[1;32m~\\anaconda3\\lib\\site-packages\\selenium\\webdriver\\remote\\errorhandler.py\u001b[0m in \u001b[0;36mcheck_response\u001b[1;34m(self, response)\u001b[0m\n\u001b[0;32m    241\u001b[0m                 \u001b[0malert_text\u001b[0m \u001b[1;33m=\u001b[0m \u001b[0mvalue\u001b[0m\u001b[1;33m[\u001b[0m\u001b[1;34m'alert'\u001b[0m\u001b[1;33m]\u001b[0m\u001b[1;33m.\u001b[0m\u001b[0mget\u001b[0m\u001b[1;33m(\u001b[0m\u001b[1;34m'text'\u001b[0m\u001b[1;33m)\u001b[0m\u001b[1;33m\u001b[0m\u001b[1;33m\u001b[0m\u001b[0m\n\u001b[0;32m    242\u001b[0m             \u001b[1;32mraise\u001b[0m \u001b[0mexception_class\u001b[0m\u001b[1;33m(\u001b[0m\u001b[0mmessage\u001b[0m\u001b[1;33m,\u001b[0m \u001b[0mscreen\u001b[0m\u001b[1;33m,\u001b[0m \u001b[0mstacktrace\u001b[0m\u001b[1;33m,\u001b[0m \u001b[0malert_text\u001b[0m\u001b[1;33m)\u001b[0m  \u001b[1;31m# type: ignore[call-arg]  # mypy is not smart enough here\u001b[0m\u001b[1;33m\u001b[0m\u001b[1;33m\u001b[0m\u001b[0m\n\u001b[1;32m--> 243\u001b[1;33m         \u001b[1;32mraise\u001b[0m \u001b[0mexception_class\u001b[0m\u001b[1;33m(\u001b[0m\u001b[0mmessage\u001b[0m\u001b[1;33m,\u001b[0m \u001b[0mscreen\u001b[0m\u001b[1;33m,\u001b[0m \u001b[0mstacktrace\u001b[0m\u001b[1;33m)\u001b[0m\u001b[1;33m\u001b[0m\u001b[1;33m\u001b[0m\u001b[0m\n\u001b[0m",
      "\u001b[1;31mNoSuchWindowException\u001b[0m: Message: no such window: target window already closed\nfrom unknown error: web view not found\n  (Session info: chrome=106.0.5249.119)\nStacktrace:\nBacktrace:\n\tOrdinal0 [0x01031ED3+2236115]\n\tOrdinal0 [0x00FC92F1+1807089]\n\tOrdinal0 [0x00ED66FD+812797]\n\tOrdinal0 [0x00EBDFFA+712698]\n\tOrdinal0 [0x00F2506B+1134699]\n\tOrdinal0 [0x00F3514A+1200458]\n\tOrdinal0 [0x00F218A6+1120422]\n\tOrdinal0 [0x00EFA73D+960317]\n\tOrdinal0 [0x00EFB71F+964383]\n\tGetHandleVerifier [0x012DE7E2+2743074]\n\tGetHandleVerifier [0x012D08D4+2685972]\n\tGetHandleVerifier [0x010C2BAA+532202]\n\tGetHandleVerifier [0x010C1990+527568]\n\tOrdinal0 [0x00FD080C+1837068]\n\tOrdinal0 [0x00FD4CD8+1854680]\n\tOrdinal0 [0x00FD4DC5+1854917]\n\tOrdinal0 [0x00FDED64+1895780]\n\tBaseThreadInitThunk [0x77938744+36]\n\tRtlGetAppContainerNamedObjectPath [0x77D2582D+253]\n\tRtlGetAppContainerNamedObjectPath [0x77D257FD+205]\n"
     ]
    }
   ],
   "source": [
    "df = scrape_all_job_data(\"Data Scientist\", \"Philadelphia\")"
   ]
  },
  {
   "cell_type": "code",
   "execution_count": 219,
   "metadata": {},
   "outputs": [
    {
     "data": {
      "text/html": [
       "<div>\n",
       "<style scoped>\n",
       "    .dataframe tbody tr th:only-of-type {\n",
       "        vertical-align: middle;\n",
       "    }\n",
       "\n",
       "    .dataframe tbody tr th {\n",
       "        vertical-align: top;\n",
       "    }\n",
       "\n",
       "    .dataframe thead th {\n",
       "        text-align: right;\n",
       "    }\n",
       "</style>\n",
       "<table border=\"1\" class=\"dataframe\">\n",
       "  <thead>\n",
       "    <tr style=\"text-align: right;\">\n",
       "      <th></th>\n",
       "      <th>Job Title</th>\n",
       "      <th>Company Name</th>\n",
       "      <th>Company Location</th>\n",
       "      <th>Job Description</th>\n",
       "      <th>Benefits</th>\n",
       "      <th>Job Posted Date</th>\n",
       "    </tr>\n",
       "  </thead>\n",
       "  <tbody>\n",
       "  </tbody>\n",
       "</table>\n",
       "</div>"
      ],
      "text/plain": [
       "Empty DataFrame\n",
       "Columns: [Job Title, Company Name, Company Location, Job Description, Benefits, Job Posted Date]\n",
       "Index: []"
      ]
     },
     "execution_count": 219,
     "metadata": {},
     "output_type": "execute_result"
    }
   ],
   "source": [
    "df.head()"
   ]
  }
 ],
 "metadata": {
  "kernelspec": {
   "display_name": "Python 3",
   "language": "python",
   "name": "python3"
  },
  "language_info": {
   "codemirror_mode": {
    "name": "ipython",
    "version": 3
   },
   "file_extension": ".py",
   "mimetype": "text/x-python",
   "name": "python",
   "nbconvert_exporter": "python",
   "pygments_lexer": "ipython3",
   "version": "3.8.5"
  }
 },
 "nbformat": 4,
 "nbformat_minor": 4
}
