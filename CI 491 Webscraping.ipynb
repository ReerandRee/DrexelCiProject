{
 "cells": [
  {
   "cell_type": "code",
   "execution_count": 38,
   "metadata": {},
   "outputs": [],
   "source": [
    "from selenium import webdriver\n",
    "import pandas as pd"
   ]
  },
  {
   "cell_type": "code",
   "execution_count": 39,
   "metadata": {},
   "outputs": [],
   "source": [
    "from selenium.webdriver.chrome.options import Options\n",
    "\n",
    "options = Options()\n",
    "options.headless = True\n",
    "options.add_argument(\"--window-size=1920,1200\")"
   ]
  },
  {
   "cell_type": "code",
   "execution_count": 40,
   "metadata": {},
   "outputs": [
    {
     "name": "stderr",
     "output_type": "stream",
     "text": [
      "C:\\Users\\mario\\AppData\\Local\\Temp\\ipykernel_3096\\2042595417.py:1: DeprecationWarning: executable_path has been deprecated, please pass in a Service object\n",
      "  driver = webdriver.Chrome(executable_path=\"C:/Users/mario/Desktop/chromedriver.exe\")\n"
     ]
    }
   ],
   "source": [
    "driver = webdriver.Chrome(executable_path=\"C:/Users/mario/Desktop/chromedriver.exe\")"
   ]
  },
  {
   "cell_type": "code",
   "execution_count": 41,
   "metadata": {},
   "outputs": [],
   "source": [
    "driver.get('https://www.indeed.com/jobs?q=data+scientist&l=Philadelphia%2C+PA&from=searchOnHP&vjk=ff6870627bbd2d7c')"
   ]
  },
  {
   "cell_type": "code",
   "execution_count": 42,
   "metadata": {},
   "outputs": [
    {
     "name": "stderr",
     "output_type": "stream",
     "text": [
      "C:\\Users\\mario\\AppData\\Local\\Temp\\ipykernel_3096\\839157241.py:1: DeprecationWarning: find_elements_by_class_name is deprecated. Please use find_elements(by=By.CLASS_NAME, value=name) instead\n",
      "  Names = driver.find_elements_by_class_name('companyName')\n"
     ]
    }
   ],
   "source": [
    "Names = driver.find_elements_by_class_name('companyName')"
   ]
  },
  {
   "cell_type": "code",
   "execution_count": 43,
   "metadata": {},
   "outputs": [
    {
     "name": "stdout",
     "output_type": "stream",
     "text": [
      "Comcast\n",
      "IKEA\n",
      "Johnson & Johnson\n",
      "PayPal\n",
      "Cyber Resource\n",
      "Dataiku Misc Postings\n",
      "Worldgate, llc\n",
      "Wills Eye Hospital\n",
      "Enterra Solutions\n",
      "Data-Core System, Inc.\n",
      "Vanguard\n",
      "Penn Medicine\n",
      "DataStream Cyber Insurance\n",
      "Surya Systems\n",
      "The J.G. Wentworth Company\n"
     ]
    }
   ],
   "source": [
    "for name in Names:\n",
    "    print(name.text)"
   ]
  },
  {
   "cell_type": "code",
   "execution_count": 44,
   "metadata": {},
   "outputs": [
    {
     "name": "stderr",
     "output_type": "stream",
     "text": [
      "C:\\Users\\mario\\AppData\\Local\\Temp\\ipykernel_3096\\1415122044.py:1: DeprecationWarning: find_elements_by_class_name is deprecated. Please use find_elements(by=By.CLASS_NAME, value=name) instead\n",
      "  Locations = driver.find_elements_by_class_name('companyLocation')\n"
     ]
    }
   ],
   "source": [
    "Locations = driver.find_elements_by_class_name('companyLocation')"
   ]
  },
  {
   "cell_type": "code",
   "execution_count": 45,
   "metadata": {
    "scrolled": true
   },
   "outputs": [
    {
     "name": "stdout",
     "output_type": "stream",
     "text": [
      "Philadelphia, PA 19103\n",
      "\n",
      "Plymouth Meeting, PA\n",
      "\n",
      "Remote in Wayne, PA\n",
      "\n",
      "Plymouth Meeting, PA\n",
      "\n",
      "Philadelphia, PA\n",
      "\n",
      "Remote in Philadelphia, PA\n",
      "\n",
      "Philadelphia, PA 19130 \n",
      "(Logan Square area)\n",
      "\n",
      "Philadelphia, PA 19107 \n",
      "(City Center East area)\n",
      "\n",
      "Langhorne, PA\n",
      "\n",
      "Bristol, PA 19007\n",
      "\n",
      "Malvern, PA\n",
      "\n",
      "Philadelphia, PA 19104 \n",
      "(University City area)\n",
      "\n",
      "Remote in Philadelphia, PA\n",
      "\n",
      "Remote in Malvern, PA\n",
      "\n",
      "Remote in King of Prussia, PA\n",
      "\n"
     ]
    }
   ],
   "source": [
    "for location in Locations:\n",
    "    print(location.text)\n",
    "    print()"
   ]
  },
  {
   "cell_type": "code",
   "execution_count": 46,
   "metadata": {},
   "outputs": [
    {
     "name": "stderr",
     "output_type": "stream",
     "text": [
      "C:\\Users\\mario\\AppData\\Local\\Temp\\ipykernel_3096\\2847784176.py:1: DeprecationWarning: find_elements_by_class_name is deprecated. Please use find_elements(by=By.CLASS_NAME, value=name) instead\n",
      "  attributes = driver.find_elements_by_class_name('attribute_snippet')\n"
     ]
    }
   ],
   "source": [
    "attributes = driver.find_elements_by_class_name('attribute_snippet')"
   ]
  },
  {
   "cell_type": "code",
   "execution_count": 47,
   "metadata": {},
   "outputs": [
    {
     "name": "stdout",
     "output_type": "stream",
     "text": [
      "Full-time\n",
      "\n",
      "$98,880 - $146,915 a year\n",
      "\n",
      "Full-time\n",
      "\n",
      "Full-time\n",
      "+1\n",
      "\n",
      "Full-time\n",
      "\n",
      "$84,346 - $173,707 a year\n",
      "\n",
      "Full-time\n",
      "\n",
      "8 hour shift\n",
      "+2\n",
      "\n",
      "$65,000 - $70,000 a year\n",
      "\n",
      "Full-time\n",
      "\n",
      "8 hour shift\n",
      "\n",
      "Full-time\n",
      "\n",
      "Full-time\n",
      "\n",
      "Full-time\n",
      "\n",
      "$80 an hour\n",
      "\n",
      "Full-time\n",
      "\n"
     ]
    }
   ],
   "source": [
    "def print_scraped_text(list_of_elements):\n",
    "    for element in list_of_elements:\n",
    "        print(element.text)\n",
    "        print()\n",
    "        \n",
    "print_scraped_text(attributes)"
   ]
  },
  {
   "cell_type": "code",
   "execution_count": 48,
   "metadata": {},
   "outputs": [
    {
     "name": "stderr",
     "output_type": "stream",
     "text": [
      "C:\\Users\\mario\\AppData\\Local\\Temp\\ipykernel_3096\\1364741198.py:1: DeprecationWarning: find_elements_by_class_name is deprecated. Please use find_elements(by=By.CLASS_NAME, value=name) instead\n",
      "  descriptions = driver.find_elements_by_class_name('job-snippet')\n"
     ]
    }
   ],
   "source": [
    "descriptions = driver.find_elements_by_class_name('job-snippet')"
   ]
  },
  {
   "cell_type": "code",
   "execution_count": 49,
   "metadata": {},
   "outputs": [
    {
     "name": "stdout",
     "output_type": "stream",
     "text": [
      "Develop data mining, machine learning, statistical and graph-based algorithms designed to analyze massive data sets for business insights and partner with the…\n",
      "\n",
      "Work closely with other data scientists and across functions to help produce all required design specifications and ensure that data solutions work together and…\n",
      "\n",
      "Assist in creating new mechanisms to monitor for quality signals on an ongoing basis using advanced analytics, signal detection, natural language processing,…\n",
      "\n",
      "Proven experience in employing mathematical, statistical, data mining, and machine learning algorithms on real-world problems.\n",
      "\n",
      "Familiarity with health/public health data.\n",
      "The Data Scientist will collaborate with stakeholders, subject matter experts, and data stewards to ensure data…\n",
      "\n",
      "An ideal candidate is excited to learn complex new technologies and modeling techniques while being able to explain their work to other data scientists and…\n",
      "\n",
      "Conduct data analysis activities by working with functional and technical stakeholders to support the functional systems, data integrations, data validation,…\n",
      "\n",
      "The Vickie and Jack Farber Vision Research Center (VRC) at Wills Eye Hospital seeks a full-time data scientist/data analyst to help expand our vision research…\n",
      "\n",
      "1 - 2 years of experience in quantitative data analytics and/or numerical modeling.\n",
      "Data visualization and generating actionable insights.\n",
      "\n",
      "Responsibilities include creating, training, and deploying machine learning models.\n",
      "Perform data mining and collection procedures.\n",
      "\n",
      "Mentors and develops junior data scientists and analysts.\n",
      "Leads and executes analytical and data science projects that provide deep insights into business needs…\n",
      "\n",
      "Working knowledge of data science and machine learning libraries (e.g. caret, scikit-learn, etc.).\n",
      "Demonstrates knowledge of data analysis and data modeling;…\n",
      "\n",
      "Performing exploratory data analysis on new data sets.\n",
      "Good knowledge of python for data analysis and machine learning (pandas, numpy, scikit-learn, stats…\n",
      "\n",
      "Experience in data mining and machine learning.\n",
      "Experience with big data analytics technologies such as Spark, Flink and Hadoop.\n",
      "\n",
      "Develop and implement processes for data extraction, data cleaning and transformation, and data validation for credit analytics and modeling.\n",
      "\n"
     ]
    }
   ],
   "source": [
    "print_scraped_text(descriptions)"
   ]
  },
  {
   "cell_type": "code",
   "execution_count": 50,
   "metadata": {},
   "outputs": [
    {
     "name": "stdout",
     "output_type": "stream",
     "text": [
      "['Comcast\\tPhiladelphia, PA 19103\\tFull-time\\tDevelop data mining, machine learning, statistical and graph-based algorithms designed to analyze massive data sets for business insights and partner with the…']\n"
     ]
    }
   ],
   "source": [
    "arr = [Names[0].text + \"\\t\" + Locations[0].text  +  \"\\t\" + attributes[0].text  +  \"\\t\" +descriptions[0].text]\n",
    "print(arr)"
   ]
  },
  {
   "cell_type": "code",
   "execution_count": 51,
   "metadata": {},
   "outputs": [
    {
     "name": "stdout",
     "output_type": "stream",
     "text": [
      "[['Comcast\\tPhiladelphia, PA 19103\\tFull-time\\tDevelop data mining, machine learning, statistical and graph-based algorithms designed to analyze massive data sets for business insights and partner with the…'], ['IKEA\\tPlymouth Meeting, PA\\t$98,880 - $146,915 a year\\tWork closely with other data scientists and across functions to help produce all required design specifications and ensure that data solutions work together and…'], ['Johnson & Johnson\\tRemote in Wayne, PA\\tFull-time\\tAssist in creating new mechanisms to monitor for quality signals on an ongoing basis using advanced analytics, signal detection, natural language processing,…'], ['PayPal\\tPlymouth Meeting, PA\\tFull-time\\n+1\\tProven experience in employing mathematical, statistical, data mining, and machine learning algorithms on real-world problems.'], ['Cyber Resource\\tPhiladelphia, PA\\tFull-time\\tFamiliarity with health/public health data.\\nThe Data Scientist will collaborate with stakeholders, subject matter experts, and data stewards to ensure data…'], ['Dataiku Misc Postings\\tRemote in Philadelphia, PA\\t$84,346 - $173,707 a year\\tAn ideal candidate is excited to learn complex new technologies and modeling techniques while being able to explain their work to other data scientists and…'], ['Worldgate, llc\\tPhiladelphia, PA 19130 \\n(Logan Square area)\\tFull-time\\tConduct data analysis activities by working with functional and technical stakeholders to support the functional systems, data integrations, data validation,…'], ['Wills Eye Hospital\\tPhiladelphia, PA 19107 \\n(City Center East area)\\t8 hour shift\\n+2\\tThe Vickie and Jack Farber Vision Research Center (VRC) at Wills Eye Hospital seeks a full-time data scientist/data analyst to help expand our vision research…'], ['Enterra Solutions\\tLanghorne, PA\\t$65,000 - $70,000 a year\\t1 - 2 years of experience in quantitative data analytics and/or numerical modeling.\\nData visualization and generating actionable insights.'], ['Data-Core System, Inc.\\tBristol, PA 19007\\tFull-time\\tResponsibilities include creating, training, and deploying machine learning models.\\nPerform data mining and collection procedures.'], ['Vanguard\\tMalvern, PA\\t8 hour shift\\tMentors and develops junior data scientists and analysts.\\nLeads and executes analytical and data science projects that provide deep insights into business needs…'], ['Penn Medicine\\tPhiladelphia, PA 19104 \\n(University City area)\\tFull-time\\tWorking knowledge of data science and machine learning libraries (e.g. caret, scikit-learn, etc.).\\nDemonstrates knowledge of data analysis and data modeling;…'], ['DataStream Cyber Insurance\\tRemote in Philadelphia, PA\\tFull-time\\tPerforming exploratory data analysis on new data sets.\\nGood knowledge of python for data analysis and machine learning (pandas, numpy, scikit-learn, stats…'], ['Surya Systems\\tRemote in Malvern, PA\\tFull-time\\tExperience in data mining and machine learning.\\nExperience with big data analytics technologies such as Spark, Flink and Hadoop.'], ['The J.G. Wentworth Company\\tRemote in King of Prussia, PA\\t$80 an hour\\tDevelop and implement processes for data extraction, data cleaning and transformation, and data validation for credit analytics and modeling.']]\n"
     ]
    }
   ],
   "source": [
    "output = []\n",
    "for i in range(0,len(Names)):\n",
    "    output.append([Names[i].text + \"\\t\" + Locations[i].text  +  \"\\t\" + attributes[i].text  +  \"\\t\" +descriptions[i].text])\n",
    "print(output)"
   ]
  },
  {
   "cell_type": "code",
   "execution_count": 53,
   "metadata": {},
   "outputs": [],
   "source": [
    "df = pd.DataFrame(output)\n",
    "df.to_excel(\"test.xlsx\")"
   ]
  },
  {
   "cell_type": "code",
   "execution_count": null,
   "metadata": {},
   "outputs": [],
   "source": []
  },
  {
   "cell_type": "code",
   "execution_count": null,
   "metadata": {},
   "outputs": [],
   "source": []
  }
 ],
 "metadata": {
  "kernelspec": {
   "display_name": "Python 3 (ipykernel)",
   "language": "python",
   "name": "python3"
  },
  "language_info": {
   "codemirror_mode": {
    "name": "ipython",
    "version": 3
   },
   "file_extension": ".py",
   "mimetype": "text/x-python",
   "name": "python",
   "nbconvert_exporter": "python",
   "pygments_lexer": "ipython3",
   "version": "3.9.13"
  }
 },
 "nbformat": 4,
 "nbformat_minor": 4
}
