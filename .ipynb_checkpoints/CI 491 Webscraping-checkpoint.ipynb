{
 "cells": [
  {
   "cell_type": "code",
   "execution_count": 2,
   "metadata": {},
   "outputs": [],
   "source": [
    "from selenium import webdriver"
   ]
  },
  {
   "cell_type": "code",
   "execution_count": 3,
   "metadata": {},
   "outputs": [],
   "source": [
    "from selenium.webdriver.chrome.options import Options\n",
    "\n",
    "options = Options()\n",
    "options.headless = True\n",
    "options.add_argument(\"--window-size=1920,1200\")"
   ]
  },
  {
   "cell_type": "code",
   "execution_count": 5,
   "metadata": {},
   "outputs": [
    {
     "ename": "SyntaxError",
     "evalue": "(unicode error) 'unicodeescape' codec can't decode bytes in position 2-3: truncated \\UXXXXXXXX escape (3459870365.py, line 1)",
     "output_type": "error",
     "traceback": [
      "\u001b[1;36m  Input \u001b[1;32mIn [5]\u001b[1;36m\u001b[0m\n\u001b[1;33m    driver = webdriver.Chrome(executable_path=\"C:\\Users\\mario\\Desktop\\Program\\School Stuff\\CI\\DrexelCiProject\")\u001b[0m\n\u001b[1;37m                                                                                                              ^\u001b[0m\n\u001b[1;31mSyntaxError\u001b[0m\u001b[1;31m:\u001b[0m (unicode error) 'unicodeescape' codec can't decode bytes in position 2-3: truncated \\UXXXXXXXX escape\n"
     ]
    }
   ],
   "source": [
    "driver = webdriver.Chrome(executable_path=\"C:/Users/mario/Desktop\\Program\\School Stuff\\CI\\DrexelCiProject\")"
   ]
  },
  {
   "cell_type": "code",
   "execution_count": 4,
   "metadata": {},
   "outputs": [],
   "source": [
    "driver.get('https://www.indeed.com/jobs?q=data+scientist&l=Philadelphia%2C+PA&from=searchOnHP&vjk=ff6870627bbd2d7c')"
   ]
  },
  {
   "cell_type": "code",
   "execution_count": 5,
   "metadata": {},
   "outputs": [
    {
     "name": "stderr",
     "output_type": "stream",
     "text": [
      "<ipython-input-5-7ad9353c6004>:1: DeprecationWarning: find_elements_by_* commands are deprecated. Please use find_elements() instead\n",
      "  Names = driver.find_elements_by_class_name('companyName')\n"
     ]
    }
   ],
   "source": [
    "Names = driver.find_elements_by_class_name('companyName')"
   ]
  },
  {
   "cell_type": "code",
   "execution_count": 6,
   "metadata": {},
   "outputs": [
    {
     "name": "stdout",
     "output_type": "stream",
     "text": [
      "Comcast\n",
      "Klein Hersh International\n",
      "Comcast\n",
      "Insight Global\n",
      "Johnson & Johnson\n",
      "Chubb INA Holdings Inc.\n",
      "PayPal\n",
      "Cyber Resource\n",
      "Dataiku Misc Postings\n",
      "Worldgate, llc\n",
      "Wills Eye Hospital\n",
      "Enterra Solutions\n",
      "Penn Medicine\n",
      "Vanguard\n",
      "Data-Core System, Inc.\n"
     ]
    }
   ],
   "source": [
    "for name in Names:\n",
    "    print(name.text)"
   ]
  },
  {
   "cell_type": "code",
   "execution_count": 7,
   "metadata": {},
   "outputs": [
    {
     "name": "stderr",
     "output_type": "stream",
     "text": [
      "<ipython-input-7-7349f78e5ee4>:1: DeprecationWarning: find_elements_by_* commands are deprecated. Please use find_elements() instead\n",
      "  Locations = driver.find_elements_by_class_name('companyLocation')\n"
     ]
    }
   ],
   "source": [
    "Locations = driver.find_elements_by_class_name('companyLocation')"
   ]
  },
  {
   "cell_type": "code",
   "execution_count": 8,
   "metadata": {
    "scrolled": true
   },
   "outputs": [
    {
     "name": "stdout",
     "output_type": "stream",
     "text": [
      "Philadelphia, PA 19103\n",
      "\n",
      "Philadelphia, PA\n",
      "\n",
      "Philadelphia, PA 19103\n",
      "\n",
      "Remote in Camden, NJ 08103\n",
      "\n",
      "Remote in Wayne, PA\n",
      "\n",
      "Philadelphia, PA 19106 \n",
      "(City Center East area)\n",
      "\n",
      "Plymouth Meeting, PA\n",
      "\n",
      "Philadelphia, PA\n",
      "\n",
      "Remote in Philadelphia, PA\n",
      "\n",
      "Philadelphia, PA 19130 \n",
      "(Logan Square area)\n",
      "\n",
      "Philadelphia, PA 19107 \n",
      "(City Center East area)\n",
      "\n",
      "Langhorne, PA\n",
      "\n",
      "Philadelphia, PA 19104 \n",
      "(University City area)\n",
      "\n",
      "Malvern, PA\n",
      "\n",
      "Bristol, PA 19007\n",
      "\n"
     ]
    }
   ],
   "source": [
    "for location in Locations:\n",
    "    print(location.text)\n",
    "    print()"
   ]
  },
  {
   "cell_type": "code",
   "execution_count": 9,
   "metadata": {},
   "outputs": [
    {
     "name": "stderr",
     "output_type": "stream",
     "text": [
      "<ipython-input-9-d8d6894f7c67>:1: DeprecationWarning: find_elements_by_* commands are deprecated. Please use find_elements() instead\n",
      "  attributes = driver.find_elements_by_class_name('attribute_snippet')\n"
     ]
    }
   ],
   "source": [
    "attributes = driver.find_elements_by_class_name('attribute_snippet')"
   ]
  },
  {
   "cell_type": "code",
   "execution_count": 10,
   "metadata": {},
   "outputs": [
    {
     "name": "stdout",
     "output_type": "stream",
     "text": [
      "Full-time\n",
      "\n",
      "Full-time\n",
      "\n",
      "Full-time\n",
      "+1\n",
      "\n",
      "Full-time\n",
      "\n",
      "Full-time\n",
      "\n",
      "$84,346 - $173,707 a year\n",
      "\n",
      "Full-time\n",
      "\n",
      "8 hour shift\n",
      "+2\n",
      "\n",
      "$65,000 - $70,000 a year\n",
      "\n",
      "Full-time\n",
      "\n",
      "8 hour shift\n",
      "\n",
      "Full-time\n",
      "\n",
      "Full-time\n",
      "\n",
      "Full-time\n",
      "\n"
     ]
    }
   ],
   "source": [
    "def print_scraped_text(list_of_elements):\n",
    "    for element in list_of_elements:\n",
    "        print(element.text)\n",
    "        print()\n",
    "        \n",
    "print_scraped_text(attributes)"
   ]
  },
  {
   "cell_type": "code",
   "execution_count": 11,
   "metadata": {},
   "outputs": [
    {
     "name": "stderr",
     "output_type": "stream",
     "text": [
      "<ipython-input-11-dcd175855cbe>:1: DeprecationWarning: find_elements_by_* commands are deprecated. Please use find_elements() instead\n",
      "  descriptions = driver.find_elements_by_class_name('job-snippet')\n"
     ]
    }
   ],
   "source": [
    "descriptions = driver.find_elements_by_class_name('job-snippet')"
   ]
  },
  {
   "cell_type": "code",
   "execution_count": 12,
   "metadata": {},
   "outputs": [
    {
     "name": "stdout",
     "output_type": "stream",
     "text": [
      "Develop data mining, machine learning, statistical and graph-based algorithms designed to analyze massive data sets for business insights and partner with the…\n",
      "\n",
      "Driving business impact through data by showing trends, and uncovering meaningful and actionable insights.\n",
      "Experience with health data and products is highly…\n",
      "\n",
      "Bring a combination of mathematical rigor and innovative algorithm design to create recipes that extract relevant insights from billions of rows of data to…\n",
      "\n",
      "Experience with visualization software such as Power BI and Python Dash is a plus.\n",
      "Data scientist is responsible for developing statistical algorithms to…\n",
      "\n",
      "Assist in creating new mechanisms to monitor for quality signals on an ongoing basis using advanced analytics, signal detection, natural language processing,…\n",
      "\n",
      "Competitive offer packages which include a competitive base salary bonus and equity (for applicable roles).\n",
      "Dynamic Hybrid – flexible work arrangements.\n",
      "\n",
      "Proven experience in employing mathematical, statistical, data mining, and machine learning algorithms on real-world problems.\n",
      "\n",
      "Familiarity with health/public health data.\n",
      "The Data Scientist will collaborate with stakeholders, subject matter experts, and data stewards to ensure data…\n",
      "\n",
      "An ideal candidate is excited to learn complex new technologies and modeling techniques while being able to explain their work to other data scientists and…\n",
      "\n",
      "Conduct data analysis activities by working with functional and technical stakeholders to support the functional systems, data integrations, data validation,…\n",
      "\n",
      "The Vickie and Jack Farber Vision Research Center (VRC) at Wills Eye Hospital seeks a full-time data scientist/data analyst to help expand our vision research…\n",
      "\n",
      "1 - 2 years of experience in quantitative data analytics and/or numerical modeling.\n",
      "Data visualization and generating actionable insights.\n",
      "\n",
      "Working knowledge of data science and machine learning libraries (e.g. caret, scikit-learn, etc.).\n",
      "Demonstrates knowledge of data analysis and data modeling;…\n",
      "\n",
      "Mentors and develops junior data scientists and analysts.\n",
      "Leads and executes analytical and data science projects that provide deep insights into business needs…\n",
      "\n",
      "Responsibilities include creating, training, and deploying machine learning models.\n",
      "Perform data mining and collection procedures.\n",
      "\n"
     ]
    }
   ],
   "source": [
    "print_scraped_text(descriptions)"
   ]
  },
  {
   "cell_type": "code",
   "execution_count": null,
   "metadata": {},
   "outputs": [],
   "source": []
  }
 ],
 "metadata": {
  "kernelspec": {
   "display_name": "Python 3 (ipykernel)",
   "language": "python",
   "name": "python3"
  },
  "language_info": {
   "codemirror_mode": {
    "name": "ipython",
    "version": 3
   },
   "file_extension": ".py",
   "mimetype": "text/x-python",
   "name": "python",
   "nbconvert_exporter": "python",
   "pygments_lexer": "ipython3",
   "version": "3.9.13"
  }
 },
 "nbformat": 4,
 "nbformat_minor": 4
}
